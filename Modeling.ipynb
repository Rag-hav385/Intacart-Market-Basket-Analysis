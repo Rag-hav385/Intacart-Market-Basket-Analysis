{
 "cells": [
  {
   "cell_type": "markdown",
   "metadata": {
    "id": "pRNL5kAcWAvg"
   },
   "source": [
    "<h1> Libraries </h1>"
   ]
  },
  {
   "cell_type": "code",
   "execution_count": 1,
   "metadata": {
    "id": "rH7w7uf4qTIg"
   },
   "outputs": [],
   "source": [
    "import pandas as pd\n",
    "import seaborn as sns\n",
    "import matplotlib.pyplot as plt\n",
    "import numpy as np\n",
    "from sklearn.model_selection import train_test_split\n",
    "\n",
    "from PIL import Image\n",
    "from astropy.stats import circmean, circvar\n",
    "\n",
    "from tqdm import tqdm\n",
    "import sqlite3\n",
    "import pickle\n",
    "from scipy.linalg import svd\n",
    "from sklearn.decomposition import LatentDirichletAllocation\n",
    "from sklearn.decomposition import TruncatedSVD \n",
    "\n",
    "#Models and Metrics\n",
    "from sklearn.linear_model import SGDClassifier\n",
    "from sklearn import metrics\n",
    "from sklearn.linear_model import LogisticRegression\n",
    "from sklearn.model_selection import RandomizedSearchCV\n",
    "from sklearn.metrics import confusion_matrix\n",
    "from sklearn.svm import SVC\n",
    "from sklearn.neighbors import KNeighborsClassifier\n",
    "from sklearn.tree import DecisionTreeClassifier\n",
    "from sklearn.ensemble import RandomForestClassifier\n",
    "from scipy.stats import randint as sp_randint\n",
    "from sklearn.metrics import roc_curve, auc\n",
    "from sklearn.model_selection import StratifiedKFold\n",
    "from sklearn.model_selection import KFold \n",
    "import xgboost as xgb\n",
    "from lightgbm import LGBMClassifier\n",
    "from prettytable import PrettyTable\n",
    "from scipy import stats\n",
    "import warnings\n",
    "warnings.filterwarnings('ignore')\n",
    "from sklearn.model_selection import GridSearchCV\n",
    "from sklearn.model_selection import ParameterGrid\n",
    "import datetime"
   ]
  },
  {
   "cell_type": "markdown",
   "metadata": {
    "id": "coiSYu3fWIez"
   },
   "source": [
    "<h1> Mounting with google drive if needed </h1>"
   ]
  },
  {
   "cell_type": "code",
   "execution_count": 6,
   "metadata": {
    "colab": {
     "base_uri": "https://localhost:8080/"
    },
    "id": "7a2HCLn5qmhs",
    "outputId": "8cb9330a-49fc-4a64-b448-ec1ebcd9736c"
   },
   "outputs": [
    {
     "name": "stdout",
     "output_type": "stream",
     "text": [
      "Mounted at /content/drive\n"
     ]
    }
   ],
   "source": [
    "from google.colab import drive\n",
    "drive.mount('/content/drive')"
   ]
  },
  {
   "cell_type": "markdown",
   "metadata": {
    "id": "gnc1rDRuqTIn"
   },
   "source": [
    "<h1> Getting Data </h1>\n",
    "<div>\n",
    "Please make the data_train and data_test pickle files using Feature_Engineering Notebook and then Start with this notebook.\n",
    "\n",
    "I ll suggest make the pickle files and load them in your google drive and then load them ysing pickle just like I have done in the below cell.\n",
    "\n",
    "Please change the path if needed for loading the data.\n",
    "</div>"
   ]
  },
  {
   "cell_type": "code",
   "execution_count": 2,
   "metadata": {
    "colab": {
     "base_uri": "https://localhost:8080/"
    },
    "id": "HdteGIwIqTIo",
    "outputId": "d49d57a8-3d9d-4ffc-9bf2-307ffb6c60a3"
   },
   "outputs": [
    {
     "name": "stdout",
     "output_type": "stream",
     "text": [
      "<class 'pandas.core.frame.DataFrame'>\n",
      "MultiIndex: 4833292 entries, (3, 248) to (206208, 49621)\n",
      "Data columns (total 47 columns):\n",
      " #   Column                       Dtype  \n",
      "---  ------                       -----  \n",
      " 0   up_unique_dow                int8   \n",
      " 1   up_unique_hod                int8   \n",
      " 2   up_unique_atc                int8   \n",
      " 3   up_unique_reordered          int8   \n",
      " 4   up_cumcount_on               int16  \n",
      " 5   up_cumcount_dow              int16  \n",
      " 6   up_cumcount_hod              int16  \n",
      " 7   up_cumcount_dsp              float16\n",
      " 8   up_cumcount_atc              int16  \n",
      " 9   up_orders_cumcount           int8   \n",
      " 10  up_orders_num                int8   \n",
      " 11  up_orders_since_previous     int8   \n",
      " 12  up_reordered                 int8   \n",
      " 13  up_order_ratio               float16\n",
      " 14  up_order_dow_score           float16\n",
      " 15  up_order_hour_of_day_score   float16\n",
      " 16  up_last_five                 float16\n",
      " 17  up_last_five_ratio           float16\n",
      " 18  max_orders                   int8   \n",
      " 19  total_items                  int16  \n",
      " 20  orders_ratio                 float16\n",
      " 21  unique_products              int16  \n",
      " 22  num_reorders                 int16  \n",
      " 23  reordered_mean               float16\n",
      " 24  reordered_std                float16\n",
      " 25  user_dow_mean                float16\n",
      " 26  user_dow_var                 float16\n",
      " 27  user_dow_std                 float16\n",
      " 28  user_hod_mean                float16\n",
      " 29  user_hod_var                 float16\n",
      " 30  user_hod_std                 float16\n",
      " 31  user_dsp_mean                float16\n",
      " 32  user_dsp_var                 float16\n",
      " 33  user_dsp_std                 float16\n",
      " 34  prod_sum_on                  int32  \n",
      " 35  prod_sum_dow                 int32  \n",
      " 36  prod_sum_hod                 int32  \n",
      " 37  prod_sum_dsp                 float32\n",
      " 38  prod_sum_atc                 int32  \n",
      " 39  prod_sum_reordered           int32  \n",
      " 40  prod_num                     int32  \n",
      " 41  prod_unique_users            int32  \n",
      " 42  prod_reorder_mean            float16\n",
      " 43  prod_order_hour_of_day_mean  float16\n",
      " 44  prod_order_hour_of_day_var   float16\n",
      " 45  prod_order_dow_mean          float16\n",
      " 46  prod_order_dow_var           float16\n",
      "dtypes: float16(23), float32(1), int16(7), int32(7), int8(9)\n",
      "memory usage: 507.1 MB\n"
     ]
    }
   ],
   "source": [
    "data_train = pickle.load(open(\"/content/drive/MyDrive/data_train.pickle\" , 'rb'))\n",
    "data_test = pickle.load(open(\"/content/drive/MyDrive/data_test.pickle\" , 'rb'))\n",
    "\n",
    "\n",
    "\n",
    "data_test.info()"
   ]
  },
  {
   "cell_type": "code",
   "execution_count": 3,
   "metadata": {
    "colab": {
     "base_uri": "https://localhost:8080/"
    },
    "id": "74hlFWqPqTIp",
    "outputId": "475e3e32-1740-48d8-8d66-c185ffeb5784"
   },
   "outputs": [
    {
     "name": "stdout",
     "output_type": "stream",
     "text": [
      "Training Dataset ---X_train: (5932262, 47) with y_train (5932262,)\n",
      "Test Dataset ---X_cv: (2542399, 47) with y_cv (2542399,)\n",
      "\n",
      "We ll get the model with good accuracy using these datasets\n",
      "Then we ll predict for kaggle dataset\n",
      "==================================================\n",
      "Dataset for which we have to predict Kaggle: (4833292, 47)\n"
     ]
    }
   ],
   "source": [
    "X = data_train.drop('reordered', axis=1)\n",
    "y = data_train.reordered\n",
    "\n",
    "\n",
    "X_train, X_test, y_train, y_test = train_test_split(X, y, test_size=0.3, random_state=10)\n",
    "print(\"Training Dataset ---X_train:\",X_train.shape , \"with y_train\",y_train.shape)\n",
    "print(\"Test Dataset ---X_cv:\",X_test.shape , \"with y_cv\",y_test.shape)\n",
    "print()\n",
    "print(\"We ll get the model with good accuracy using these datasets\")\n",
    "print(\"Then we ll predict for kaggle dataset\")\n",
    "print(\"=\"*50)\n",
    "print(\"Dataset for which we have to predict Kaggle:\",data_test.shape)"
   ]
  },
  {
   "cell_type": "code",
   "execution_count": 4,
   "metadata": {
    "id": "Kp7pZ-1VqTIq"
   },
   "outputs": [],
   "source": [
    "#Taken from Facebook Recomendation system case study\n",
    "#Please run this cell for plotting confusion matrix for the classifiers\n",
    "\n",
    "def plot_confusion_matrix(test_y, predict_y):\n",
    "    C = confusion_matrix(test_y, predict_y)\n",
    "    \n",
    "    A =(((C.T)/(C.sum(axis=1))).T)\n",
    "    \n",
    "    B =(C/C.sum(axis=0))\n",
    "    plt.figure(figsize=(20,4))\n",
    "    \n",
    "    labels = [0,1]\n",
    "    # representing A in heatmap format\n",
    "    cmap=sns.light_palette(\"red\")\n",
    "    plt.subplot(1, 3, 1)\n",
    "    sns.heatmap(C, annot=True, cmap=cmap, fmt=\".3f\", xticklabels=labels, yticklabels=labels)\n",
    "    plt.xlabel('Predicted Class')\n",
    "    plt.ylabel('Original Class')\n",
    "    plt.title(\"Confusion matrix\")\n",
    "    \n",
    "    plt.subplot(1, 3, 2)\n",
    "    sns.heatmap(B, annot=True, cmap=cmap, fmt=\".3f\", xticklabels=labels, yticklabels=labels)\n",
    "    plt.xlabel('Predicted Class')\n",
    "    plt.ylabel('Original Class')\n",
    "    plt.title(\"Precision matrix\")\n",
    "    \n",
    "    plt.subplot(1, 3, 3)\n",
    "    # representing B in heatmap format\n",
    "    sns.heatmap(A, annot=True, cmap=cmap, fmt=\".3f\", xticklabels=labels, yticklabels=labels)\n",
    "    plt.xlabel('Predicted Class')\n",
    "    plt.ylabel('Original Class')\n",
    "    plt.title(\"Recall matrix\")\n",
    "    \n",
    "    plt.show()"
   ]
  },
  {
   "cell_type": "code",
   "execution_count": null,
   "metadata": {
    "id": "q-HyBHkEB_7D"
   },
   "outputs": [],
   "source": [
    "#URL : https://www.kaggle.com/aikinogard/python-f1-score-function \n",
    "def f1_score_single(y_true, y_pred):\n",
    "    print(type(y_pred))\n",
    "    print(type(y_true))\n",
    "    cross_size = len(int(y_true) & int(y_pred))\n",
    "    if cross_size == 0: return 0.\n",
    "    p = 1. * cross_size / len(y_pred)\n",
    "    r = 1. * cross_size / len(y_true)\n",
    "    return 2 * p * r / (p + r)\n",
    "    \n",
    "def f1_score(y_true, y_pred):\n",
    "    return np.mean([f1_score_single(x, y) for x, y in zip(y_true, y_pred)])"
   ]
  },
  {
   "cell_type": "markdown",
   "metadata": {
    "id": "4WedqukSqTIr"
   },
   "source": [
    "<h1> Light GBM Classifier </h1>"
   ]
  },
  {
   "cell_type": "markdown",
   "metadata": {
    "id": "0HSTVhE7OyRx"
   },
   "source": [
    "<b>\n",
    "<div>\n",
    " Please Run all the below cell for LGBM Classification \n",
    " </div>"
   ]
  },
  {
   "cell_type": "code",
   "execution_count": null,
   "metadata": {
    "id": "8hkYvF3JqTIr",
    "outputId": "ccbd46a8-9e82-4f5d-b21b-547b187d3d7c",
    "scrolled": false
   },
   "outputs": [
    {
     "name": "stdout",
     "output_type": "stream",
     "text": [
      "Fitting 10 folds for each of 5 candidates, totalling 50 fits\n"
     ]
    },
    {
     "name": "stderr",
     "output_type": "stream",
     "text": [
      "[Parallel(n_jobs=1)]: Using backend SequentialBackend with 1 concurrent workers.\n"
     ]
    },
    {
     "name": "stdout",
     "output_type": "stream",
     "text": [
      "[CV] num_leaves=2, max_depth=3, learning_rate=0.0001 .................\n",
      "[CV]  num_leaves=2, max_depth=3, learning_rate=0.0001, score=0.000, total=  26.4s\n",
      "[CV] num_leaves=2, max_depth=3, learning_rate=0.0001 .................\n"
     ]
    },
    {
     "name": "stderr",
     "output_type": "stream",
     "text": [
      "[Parallel(n_jobs=1)]: Done   1 out of   1 | elapsed:   26.4s remaining:    0.0s\n"
     ]
    },
    {
     "name": "stdout",
     "output_type": "stream",
     "text": [
      "[CV]  num_leaves=2, max_depth=3, learning_rate=0.0001, score=0.000, total=  26.3s\n",
      "[CV] num_leaves=2, max_depth=3, learning_rate=0.0001 .................\n"
     ]
    },
    {
     "name": "stderr",
     "output_type": "stream",
     "text": [
      "[Parallel(n_jobs=1)]: Done   2 out of   2 | elapsed:   52.7s remaining:    0.0s\n"
     ]
    },
    {
     "name": "stdout",
     "output_type": "stream",
     "text": [
      "[CV]  num_leaves=2, max_depth=3, learning_rate=0.0001, score=0.000, total=  26.3s\n",
      "[CV] num_leaves=2, max_depth=3, learning_rate=0.0001 .................\n"
     ]
    },
    {
     "name": "stderr",
     "output_type": "stream",
     "text": [
      "[Parallel(n_jobs=1)]: Done   3 out of   3 | elapsed:  1.3min remaining:    0.0s\n"
     ]
    },
    {
     "name": "stdout",
     "output_type": "stream",
     "text": [
      "[CV]  num_leaves=2, max_depth=3, learning_rate=0.0001, score=0.000, total=  26.2s\n",
      "[CV] num_leaves=2, max_depth=3, learning_rate=0.0001 .................\n"
     ]
    },
    {
     "name": "stderr",
     "output_type": "stream",
     "text": [
      "[Parallel(n_jobs=1)]: Done   4 out of   4 | elapsed:  1.8min remaining:    0.0s\n"
     ]
    },
    {
     "name": "stdout",
     "output_type": "stream",
     "text": [
      "[CV]  num_leaves=2, max_depth=3, learning_rate=0.0001, score=0.000, total=  26.2s\n",
      "[CV] num_leaves=2, max_depth=3, learning_rate=0.0001 .................\n",
      "[CV]  num_leaves=2, max_depth=3, learning_rate=0.0001, score=0.000, total=  26.4s\n",
      "[CV] num_leaves=2, max_depth=3, learning_rate=0.0001 .................\n",
      "[CV]  num_leaves=2, max_depth=3, learning_rate=0.0001, score=0.000, total=  26.3s\n",
      "[CV] num_leaves=2, max_depth=3, learning_rate=0.0001 .................\n",
      "[CV]  num_leaves=2, max_depth=3, learning_rate=0.0001, score=0.000, total=  26.3s\n",
      "[CV] num_leaves=2, max_depth=3, learning_rate=0.0001 .................\n",
      "[CV]  num_leaves=2, max_depth=3, learning_rate=0.0001, score=0.000, total=  26.3s\n",
      "[CV] num_leaves=2, max_depth=3, learning_rate=0.0001 .................\n",
      "[CV]  num_leaves=2, max_depth=3, learning_rate=0.0001, score=0.000, total=  26.3s\n",
      "[CV] num_leaves=128, max_depth=2, learning_rate=0.1 ..................\n",
      "[CV]  num_leaves=128, max_depth=2, learning_rate=0.1, score=0.264, total=  28.7s\n",
      "[CV] num_leaves=128, max_depth=2, learning_rate=0.1 ..................\n",
      "[CV]  num_leaves=128, max_depth=2, learning_rate=0.1, score=0.263, total=  28.8s\n",
      "[CV] num_leaves=128, max_depth=2, learning_rate=0.1 ..................\n",
      "[CV]  num_leaves=128, max_depth=2, learning_rate=0.1, score=0.263, total=  28.6s\n",
      "[CV] num_leaves=128, max_depth=2, learning_rate=0.1 ..................\n",
      "[CV]  num_leaves=128, max_depth=2, learning_rate=0.1, score=0.265, total=  28.1s\n",
      "[CV] num_leaves=128, max_depth=2, learning_rate=0.1 ..................\n",
      "[CV]  num_leaves=128, max_depth=2, learning_rate=0.1, score=0.267, total=  28.7s\n",
      "[CV] num_leaves=128, max_depth=2, learning_rate=0.1 ..................\n",
      "[CV]  num_leaves=128, max_depth=2, learning_rate=0.1, score=0.265, total=  28.1s\n",
      "[CV] num_leaves=128, max_depth=2, learning_rate=0.1 ..................\n",
      "[CV]  num_leaves=128, max_depth=2, learning_rate=0.1, score=0.265, total=  28.1s\n",
      "[CV] num_leaves=128, max_depth=2, learning_rate=0.1 ..................\n",
      "[CV]  num_leaves=128, max_depth=2, learning_rate=0.1, score=0.268, total=  28.1s\n",
      "[CV] num_leaves=128, max_depth=2, learning_rate=0.1 ..................\n",
      "[CV]  num_leaves=128, max_depth=2, learning_rate=0.1, score=0.262, total=  28.9s\n",
      "[CV] num_leaves=128, max_depth=2, learning_rate=0.1 ..................\n",
      "[CV]  num_leaves=128, max_depth=2, learning_rate=0.1, score=0.266, total=  28.1s\n",
      "[CV] num_leaves=1024, max_depth=2, learning_rate=0.001 ...............\n",
      "[CV]  num_leaves=1024, max_depth=2, learning_rate=0.001, score=0.000, total=  28.7s\n",
      "[CV] num_leaves=1024, max_depth=2, learning_rate=0.001 ...............\n",
      "[CV]  num_leaves=1024, max_depth=2, learning_rate=0.001, score=0.000, total=  28.6s\n",
      "[CV] num_leaves=1024, max_depth=2, learning_rate=0.001 ...............\n",
      "[CV]  num_leaves=1024, max_depth=2, learning_rate=0.001, score=0.000, total=  28.6s\n",
      "[CV] num_leaves=1024, max_depth=2, learning_rate=0.001 ...............\n",
      "[CV]  num_leaves=1024, max_depth=2, learning_rate=0.001, score=0.000, total=  28.1s\n",
      "[CV] num_leaves=1024, max_depth=2, learning_rate=0.001 ...............\n",
      "[CV]  num_leaves=1024, max_depth=2, learning_rate=0.001, score=0.000, total=  28.6s\n",
      "[CV] num_leaves=1024, max_depth=2, learning_rate=0.001 ...............\n",
      "[CV]  num_leaves=1024, max_depth=2, learning_rate=0.001, score=0.000, total=  28.5s\n",
      "[CV] num_leaves=1024, max_depth=2, learning_rate=0.001 ...............\n",
      "[CV]  num_leaves=1024, max_depth=2, learning_rate=0.001, score=0.000, total=  28.1s\n",
      "[CV] num_leaves=1024, max_depth=2, learning_rate=0.001 ...............\n",
      "[CV]  num_leaves=1024, max_depth=2, learning_rate=0.001, score=0.000, total=  28.0s\n",
      "[CV] num_leaves=1024, max_depth=2, learning_rate=0.001 ...............\n",
      "[CV]  num_leaves=1024, max_depth=2, learning_rate=0.001, score=0.000, total=  28.0s\n",
      "[CV] num_leaves=1024, max_depth=2, learning_rate=0.001 ...............\n",
      "[CV]  num_leaves=1024, max_depth=2, learning_rate=0.001, score=0.000, total=  28.1s\n",
      "[CV] num_leaves=4, max_depth=6, learning_rate=0.0001 .................\n",
      "[CV]  num_leaves=4, max_depth=6, learning_rate=0.0001, score=0.000, total=  29.2s\n",
      "[CV] num_leaves=4, max_depth=6, learning_rate=0.0001 .................\n",
      "[CV]  num_leaves=4, max_depth=6, learning_rate=0.0001, score=0.000, total=  29.3s\n",
      "[CV] num_leaves=4, max_depth=6, learning_rate=0.0001 .................\n",
      "[CV]  num_leaves=4, max_depth=6, learning_rate=0.0001, score=0.000, total=  28.4s\n",
      "[CV] num_leaves=4, max_depth=6, learning_rate=0.0001 .................\n",
      "[CV]  num_leaves=4, max_depth=6, learning_rate=0.0001, score=0.000, total=  28.5s\n",
      "[CV] num_leaves=4, max_depth=6, learning_rate=0.0001 .................\n",
      "[CV]  num_leaves=4, max_depth=6, learning_rate=0.0001, score=0.000, total=  28.5s\n",
      "[CV] num_leaves=4, max_depth=6, learning_rate=0.0001 .................\n",
      "[CV]  num_leaves=4, max_depth=6, learning_rate=0.0001, score=0.000, total=  29.2s\n",
      "[CV] num_leaves=4, max_depth=6, learning_rate=0.0001 .................\n",
      "[CV]  num_leaves=4, max_depth=6, learning_rate=0.0001, score=0.000, total=  28.5s\n",
      "[CV] num_leaves=4, max_depth=6, learning_rate=0.0001 .................\n",
      "[CV]  num_leaves=4, max_depth=6, learning_rate=0.0001, score=0.000, total=  28.5s\n",
      "[CV] num_leaves=4, max_depth=6, learning_rate=0.0001 .................\n",
      "[CV]  num_leaves=4, max_depth=6, learning_rate=0.0001, score=0.000, total=  29.2s\n",
      "[CV] num_leaves=4, max_depth=6, learning_rate=0.0001 .................\n",
      "[CV]  num_leaves=4, max_depth=6, learning_rate=0.0001, score=0.000, total=  28.5s\n",
      "[CV] num_leaves=8, max_depth=3, learning_rate=0.001 ..................\n",
      "[CV]  num_leaves=8, max_depth=3, learning_rate=0.001, score=0.000, total=  34.0s\n",
      "[CV] num_leaves=8, max_depth=3, learning_rate=0.001 ..................\n",
      "[CV]  num_leaves=8, max_depth=3, learning_rate=0.001, score=0.000, total=  33.9s\n",
      "[CV] num_leaves=8, max_depth=3, learning_rate=0.001 ..................\n",
      "[CV]  num_leaves=8, max_depth=3, learning_rate=0.001, score=0.000, total=  33.9s\n",
      "[CV] num_leaves=8, max_depth=3, learning_rate=0.001 ..................\n",
      "[CV]  num_leaves=8, max_depth=3, learning_rate=0.001, score=0.000, total=  33.9s\n",
      "[CV] num_leaves=8, max_depth=3, learning_rate=0.001 ..................\n",
      "[CV]  num_leaves=8, max_depth=3, learning_rate=0.001, score=0.000, total=  33.9s\n",
      "[CV] num_leaves=8, max_depth=3, learning_rate=0.001 ..................\n",
      "[CV]  num_leaves=8, max_depth=3, learning_rate=0.001, score=0.000, total=  33.9s\n",
      "[CV] num_leaves=8, max_depth=3, learning_rate=0.001 ..................\n",
      "[CV]  num_leaves=8, max_depth=3, learning_rate=0.001, score=0.000, total=  32.0s\n",
      "[CV] num_leaves=8, max_depth=3, learning_rate=0.001 ..................\n",
      "[CV]  num_leaves=8, max_depth=3, learning_rate=0.001, score=0.000, total=  32.0s\n",
      "[CV] num_leaves=8, max_depth=3, learning_rate=0.001 ..................\n",
      "[CV]  num_leaves=8, max_depth=3, learning_rate=0.001, score=0.000, total=  33.9s\n",
      "[CV] num_leaves=8, max_depth=3, learning_rate=0.001 ..................\n",
      "[CV]  num_leaves=8, max_depth=3, learning_rate=0.001, score=0.000, total=  32.0s\n"
     ]
    },
    {
     "name": "stderr",
     "output_type": "stream",
     "text": [
      "[Parallel(n_jobs=1)]: Done  50 out of  50 | elapsed: 24.2min finished\n"
     ]
    },
    {
     "name": "stdout",
     "output_type": "stream",
     "text": [
      "mean test scores [0.         0.26483502 0.         0.         0.        ]\n",
      "LGBMClassifier(max_depth=2, num_leaves=128, random_state=10)\n"
     ]
    }
   ],
   "source": [
    "hyperparameters = {\n",
    "                  \n",
    "                  \"max_depth\": [1,2,3,4,5,6,7,8,9,10],\n",
    "                  \"num_leaves\":[2, 4, 8, 16, 32, 64, 128, 256, 512, 1024],\n",
    "                  \"learning_rate\":[0.0001, 0.001, 0.01, 0.1, 1.0]\n",
    "                  }\n",
    "\n",
    "LGB = LGBMClassifier(random_state=10)\n",
    "\n",
    "randomizedsearch = RandomizedSearchCV(LGB, hyperparameters , n_iter=5,cv=10,scoring='f1',random_state=66 , verbose = 5)\n",
    "\n",
    "model = randomizedsearch.fit(X_train,y_train)\n",
    "\n",
    "print('mean test scores',model.cv_results_['mean_test_score'])\n",
    "print(model.best_estimator_)"
   ]
  },
  {
   "cell_type": "code",
   "execution_count": null,
   "metadata": {
    "id": "MPK_qQdbqTIs",
    "outputId": "d4e30914-143d-420c-ce31-3118ff9a528c"
   },
   "outputs": [
    {
     "data": {
      "text/plain": [
       "LGBMClassifier(max_depth=2, num_leaves=128, random_state=10)"
      ]
     },
     "execution_count": 27,
     "metadata": {
      "tags": []
     },
     "output_type": "execute_result"
    }
   ],
   "source": [
    "clf = LGBMClassifier(max_depth=2, num_leaves=128, random_state=10)\n",
    "\n",
    "clf.fit(X_train,y_train)\n",
    "\n",
    "\n",
    "#Saving \n",
    "#filename = 'LGB_model.sav'\n",
    "#pickle.dump(clf, open(filename, 'wb'))"
   ]
  },
  {
   "cell_type": "code",
   "execution_count": null,
   "metadata": {
    "id": "vo5SitsxqTIs",
    "outputId": "a426243f-20f8-419a-c4f2-fd60e2a6601d"
   },
   "outputs": [
    {
     "name": "stdout",
     "output_type": "stream",
     "text": [
      "Confusion Matrix for Test-\n"
     ]
    },
    {
     "data": {
      "image/png": "[encoded data removed]",
      "text/plain": [
       "<Figure size 1440x288 with 6 Axes>"
      ]
     },
     "metadata": {
      "needs_background": "light",
      "tags": []
     },
     "output_type": "display_data"
    }
   ],
   "source": [
    "y_pred = (clf.predict_proba(X_test)[:, 1] >= 0.21).astype('int')\n",
    "#y_pred\n",
    "print(\"Confusion Matrix for Test-\")\n",
    "plot_confusion_matrix(y_test,y_pred)"
   ]
  },
  {
   "cell_type": "code",
   "execution_count": null,
   "metadata": {
    "id": "5gfGaPBeqTIt",
    "outputId": "a5144eb7-a51c-4861-d6c0-450de7785907"
   },
   "outputs": [
    {
     "name": "stdout",
     "output_type": "stream",
     "text": [
      "Training F1 Score: 0.42983525293466585\n",
      "Test F1 Score: 0.4297115596978665\n"
     ]
    }
   ],
   "source": [
    "#Please run the cell with plot_confusion_matrix funtion first then run this cell\n",
    "\n",
    "y_train_pred =(clf.predict_proba(X_train)[:, 1] >= 0.21).astype('int')\n",
    "print(\"Training F1 Score:\", metrics.f1_score(y_train , y_train_pred))\n",
    "print(\"Test F1 Score:\",metrics.f1_score(y_test , y_pred))"
   ]
  },
  {
   "cell_type": "code",
   "execution_count": null,
   "metadata": {
    "id": "N3_LRkDVqTIt",
    "outputId": "b2014036-3580-4a47-8ebf-d6b34489aa03"
   },
   "outputs": [
    {
     "data": {
      "image/png": "[encoded data removed]",
      "text/plain": [
       "<Figure size 432x288 with 1 Axes>"
      ]
     },
     "metadata": {
      "needs_background": "light",
      "tags": []
     },
     "output_type": "display_data"
    }
   ],
   "source": [
    "fpr,tpr,ths = roc_curve(y_test,y_pred)\n",
    "auc_sc = auc(fpr, tpr)\n",
    "plt.plot(fpr, tpr, color='red',label='ROC curve (area = %0.2f)' % auc_sc)\n",
    "plt.xlabel('False Positive Rate')\n",
    "plt.ylabel('True Positive Rate')\n",
    "plt.title('Receiver operating characteristic with test data')\n",
    "plt.legend()\n",
    "plt.show()"
   ]
  },
  {
   "cell_type": "code",
   "execution_count": null,
   "metadata": {
    "id": "2fmOEargqTIt",
    "outputId": "9fc8d1d0-cefb-4656-b2a0-184d1579ca7c"
   },
   "outputs": [
    {
     "data": {
      "image/png": "[encoded data removed]",
      "text/plain": [
       "<Figure size 432x288 with 1 Axes>"
      ]
     },
     "metadata": {
      "needs_background": "light",
      "tags": []
     },
     "output_type": "display_data"
    },
    {
     "name": "stdout",
     "output_type": "stream",
     "text": [
      "Area Under this curve :  0.36359686763080745\n"
     ]
    }
   ],
   "source": [
    "precision, recall, _ = metrics.precision_recall_curve(y_test, y_pred)\n",
    "plt.plot((recall),(precision), color='red')\n",
    "plt.xlabel('recall')\n",
    "plt.ylabel('precision')\n",
    "plt.title('Precision-Recall with test data')\n",
    "plt.show()\n",
    "\n",
    "print(\"Area Under this curve : \",np.trapz(recall,precision))"
   ]
  },
  {
   "cell_type": "code",
   "execution_count": null,
   "metadata": {
    "id": "Dzs3oZDRqTIu",
    "outputId": "186bc0c0-ead3-4a7b-f9bf-f851f237390a"
   },
   "outputs": [
    {
     "data": {
      "image/png": "[encoded data removed]",
      "text/plain": [
       "<Figure size 720x864 with 1 Axes>"
      ]
     },
     "metadata": {
      "needs_background": "light",
      "tags": []
     },
     "output_type": "display_data"
    }
   ],
   "source": [
    "features = X_train.columns\n",
    "importances = clf.feature_importances_\n",
    "indices = (np.argsort(importances))\n",
    "plt.figure(figsize=(10,12))\n",
    "plt.title('Feature Importances')\n",
    "plt.barh(range(len(indices)), importances[indices], color='r', align='center')\n",
    "plt.yticks(range(len(indices)), [features[i] for i in indices])\n",
    "plt.xlabel('Relative Importance')\n",
    "plt.show()"
   ]
  },
  {
   "cell_type": "markdown",
   "metadata": {
    "id": "p0J2ntykqTIu"
   },
   "source": [
    "<h1> Getting the best Threshold For LGBM</h1>"
   ]
  },
  {
   "cell_type": "code",
   "execution_count": null,
   "metadata": {
    "id": "iEF1RoquqTIu"
   },
   "outputs": [],
   "source": [
    "thresholds = clf.predict_proba(X_test)[:, 1]"
   ]
  },
  {
   "cell_type": "code",
   "execution_count": null,
   "metadata": {
    "id": "QP2W3SaqqTIv",
    "outputId": "7aeb05a8-7ff0-44ef-89ee-b67cb55abc9b"
   },
   "outputs": [
    {
     "name": "stderr",
     "output_type": "stream",
     "text": [
      "100%|██████████| 13/13 [01:05<00:00,  5.04s/it]\n"
     ]
    },
    {
     "data": {
      "image/png": "[encoded data removed]",
      "text/plain": [
       "<Figure size 360x360 with 1 Axes>"
      ]
     },
     "metadata": {
      "needs_background": "light",
      "tags": []
     },
     "output_type": "display_data"
    }
   ],
   "source": [
    "thresholds = clf.predict_proba(X_test)[:, 1]\n",
    "f1_scores = []\n",
    "values = np.arange(np.mean(thresholds)-np.std(thresholds) , np.mean(thresholds) +np.std(thresholds)  , 0.02)\n",
    "\n",
    "for value in tqdm(values):\n",
    "    y_pred = (clf.predict_proba(X_test)[:, 1] >= value).astype('int')\n",
    "    f1_scores.append(metrics.f1_score(y_test , y_pred))\n",
    "\n",
    "plt.figure(figsize=(5,5))\n",
    "sns.lineplot(values , f1_scores , color = \"red\")\n",
    "plt.xlabel(\"thresholds\")\n",
    "plt.ylabel(\"F1-score\")\n",
    "plt.title(\"Thresholds vs F1-score\")\n",
    "\n",
    "plt.show()\n",
    "    "
   ]
  },
  {
   "cell_type": "markdown",
   "metadata": {
    "id": "qGhAW0dZqTIv"
   },
   "source": [
    "<h2> Observation </h2>\n",
    "<br>\n",
    "<b>\n",
    "<div>\n",
    "    i.e 0.21 is an idle value for thresholds\n",
    "    \n",
    " </div>"
   ]
  },
  {
   "cell_type": "markdown",
   "metadata": {
    "id": "JID3WoLpqTIv"
   },
   "source": [
    "<h1> Fitting and Saving the model <h1>"
   ]
  },
  {
   "cell_type": "code",
   "execution_count": null,
   "metadata": {
    "id": "GjuxX4DyqTIv"
   },
   "outputs": [],
   "source": [
    "clf = LGBMClassifier(max_depth=2, num_leaves=128, random_state=10)\n",
    "\n",
    "#fitting on whole data set.\n",
    "clf.fit(X,y)\n",
    "\n",
    "\n",
    "#Saving \n",
    "filename = 'LGBnew_model.sav'\n",
    "pickle.dump(clf, open(filename, 'wb'))"
   ]
  },
  {
   "cell_type": "markdown",
   "metadata": {
    "id": "sVTM7KsDsCie"
   },
   "source": [
    "<h1> Catboost Classifier </h1>\n",
    "\n",
    "<div> \n",
    "<b> \n",
    "Please Run All the cells below for Catboost Classifier \n",
    "</div>"
   ]
  },
  {
   "cell_type": "code",
   "execution_count": 11,
   "metadata": {
    "colab": {
     "base_uri": "https://localhost:8080/"
    },
    "id": "p3K-w1iayOn0",
    "outputId": "abbfdd0e-fa16-4b8e-b52a-fbb5b7cf080b"
   },
   "outputs": [
    {
     "name": "stdout",
     "output_type": "stream",
     "text": [
      "Collecting catboost\n",
      "\u001b[?25l  Downloading https://files.pythonhosted.org/packages/7e/c1/c1c4707013f9e2f8a96899dd3a87f66c9167d6d776a6dc8fe7ec8678d446/catboost-0.24.3-cp36-none-manylinux1_x86_64.whl (66.3MB)\n",
      "\u001b[K     |████████████████████████████████| 66.3MB 68kB/s \n",
      "\u001b[?25hRequirement already satisfied: plotly in /usr/local/lib/python3.6/dist-packages (from catboost) (4.4.1)\n",
      "Requirement already satisfied: six in /usr/local/lib/python3.6/dist-packages (from catboost) (1.15.0)\n",
      "Requirement already satisfied: matplotlib in /usr/local/lib/python3.6/dist-packages (from catboost) (3.2.2)\n",
      "Requirement already satisfied: numpy>=1.16.0 in /usr/local/lib/python3.6/dist-packages (from catboost) (1.19.4)\n",
      "Requirement already satisfied: pandas>=0.24.0 in /usr/local/lib/python3.6/dist-packages (from catboost) (1.1.5)\n",
      "Requirement already satisfied: graphviz in /usr/local/lib/python3.6/dist-packages (from catboost) (0.10.1)\n",
      "Requirement already satisfied: scipy in /usr/local/lib/python3.6/dist-packages (from catboost) (1.4.1)\n",
      "Requirement already satisfied: retrying>=1.3.3 in /usr/local/lib/python3.6/dist-packages (from plotly->catboost) (1.3.3)\n",
      "Requirement already satisfied: python-dateutil>=2.1 in /usr/local/lib/python3.6/dist-packages (from matplotlib->catboost) (2.8.1)\n",
      "Requirement already satisfied: pyparsing!=2.0.4,!=2.1.2,!=2.1.6,>=2.0.1 in /usr/local/lib/python3.6/dist-packages (from matplotlib->catboost) (2.4.7)\n",
      "Requirement already satisfied: kiwisolver>=1.0.1 in /usr/local/lib/python3.6/dist-packages (from matplotlib->catboost) (1.3.1)\n",
      "Requirement already satisfied: cycler>=0.10 in /usr/local/lib/python3.6/dist-packages (from matplotlib->catboost) (0.10.0)\n",
      "Requirement already satisfied: pytz>=2017.2 in /usr/local/lib/python3.6/dist-packages (from pandas>=0.24.0->catboost) (2018.9)\n",
      "Installing collected packages: catboost\n",
      "Successfully installed catboost-0.24.3\n"
     ]
    }
   ],
   "source": [
    "pip install catboost"
   ]
  },
  {
   "cell_type": "code",
   "execution_count": 6,
   "metadata": {
    "colab": {
     "base_uri": "https://localhost:8080/"
    },
    "id": "2mTB92JXs38p",
    "outputId": "69d501e4-0fa5-41de-f3c3-a7a932a6d95a"
   },
   "outputs": [
    {
     "name": "stdout",
     "output_type": "stream",
     "text": [
      "[0, 1, 2, 3, 4, 5, 6, 7, 8, 9, 10, 11, 12, 13, 14, 15, 16, 17, 18, 19, 20, 21, 22, 23, 24, 25, 26, 27, 28, 29, 30, 31, 32, 33, 34, 35, 36, 37, 38, 39, 40, 41, 42, 43, 44, 45, 46]\n"
     ]
    }
   ],
   "source": [
    "from catboost import CatBoostClassifier\n",
    "cat_features = list(range(0, X.shape[1]))\n",
    "print(cat_features)"
   ]
  },
  {
   "cell_type": "markdown",
   "metadata": {
    "id": "zOxv01wL1i7P"
   },
   "source": [
    "<h1> Tuning of Catboost Classifier </h1>"
   ]
  },
  {
   "cell_type": "code",
   "execution_count": null,
   "metadata": {
    "colab": {
     "base_uri": "https://localhost:8080/"
    },
    "id": "gvoCAYJ21gou",
    "outputId": "1473dd02-3b9a-402c-d59f-c7ee478bc3db"
   },
   "outputs": [
    {
     "name": "stdout",
     "output_type": "stream",
     "text": [
      "With lr: 0.0001 ,with iter: 100 ,area is: 0.45119432473030396\n",
      "With lr: 0.0001 ,with iter: 300 ,area is: 0.45119432473030396\n",
      "With lr: 0.0001 ,with iter: 600 ,area is: 0.45119432473030396\n",
      "With lr: 0.0001 ,with iter: 1000 ,area is: 0.45119432473030396\n",
      "With lr: 0.001 ,with iter: 100 ,area is: 0.45119432473030396\n",
      "With lr: 0.001 ,with iter: 300 ,area is: 0.45119432473030396\n",
      "With lr: 0.001 ,with iter: 600 ,area is: 0.4297141326144864\n",
      "With lr: 0.001 ,with iter: 1000 ,area is: 0.387499772722357\n",
      "With lr: 0.01 ,with iter: 100 ,area is: 0.38767892975747553\n",
      "With lr: 0.01 ,with iter: 300 ,area is: 0.3666813357650374\n",
      "With lr: 0.01 ,with iter: 600 ,area is: 0.3686419509068298\n",
      "With lr: 0.01 ,with iter: 1000 ,area is: 0.37083596923725004\n",
      "With lr: 0.1 ,with iter: 100 ,area is: 0.3706101446593683\n",
      "With lr: 0.1 ,with iter: 300 ,area is: 0.3730193264960253\n",
      "With lr: 0.1 ,with iter: 600 ,area is: 0.37364835656871787\n",
      "With lr: 0.1 ,with iter: 1000 ,area is: 0.37417276460286625\n",
      "With lr: 1.0 ,with iter: 100 ,area is: 0.37205431549611734\n",
      "With lr: 1.0 ,with iter: 300 ,area is: 0.37078978769744253\n",
      "With lr: 1.0 ,with iter: 600 ,area is: 0.36890497641287023\n",
      "With lr: 1.0 ,with iter: 1000 ,area is: 0.3665781769066952\n"
     ]
    }
   ],
   "source": [
    "#For learning Rate and iterations\n",
    "learning_rate = [0.0001, 0.001, 0.01, 0.1, 1.0]\n",
    "iterations = [100 , 300 , 600 , 1000]\n",
    "prec_recall_area = []\n",
    "dict_of_values = {}\n",
    "\n",
    "#Loop for the Tuning\n",
    "for lr in learning_rate:\n",
    "    for ite in iterations:\n",
    "        clf = CatBoostClassifier(\n",
    "        iterations = ite,\n",
    "        learning_rate=lr,\n",
    "        task_type = \"GPU\",\n",
    "        verbose = False)\n",
    "\n",
    "        clf.fit(X_train, list(map(int , y_train)))\n",
    "\n",
    "        y_pred = (clf.predict_proba(X_test)[:, 1] >= 0.21).astype('int')\n",
    "        precision, recall, _ = metrics.precision_recall_curve(y_test, y_pred)\n",
    "        prec_recall_area.append(np.trapz(recall,precision))\n",
    "        print(\"With lr:\",lr,\",with iter:\",ite , \",area is:\" ,np.trapz(recall,precision))\n"
   ]
  },
  {
   "cell_type": "code",
   "execution_count": null,
   "metadata": {
    "colab": {
     "base_uri": "https://localhost:8080/"
    },
    "id": "FG67j8L0GIK6",
    "outputId": "3082ff77-f670-4c77-c949-e760066e1943"
   },
   "outputs": [
    {
     "name": "stdout",
     "output_type": "stream",
     "text": [
      "With d 1 ,area is: 0.35464173737421\n",
      "With d 2 ,area is: 0.3591587102324172\n",
      "With d 3 ,area is: 0.3623822709987313\n",
      "With d 4 ,area is: 0.3645658883372689\n",
      "With d 5 ,area is: 0.3662003257206519\n",
      "With d 6 ,area is: 0.3678237258305652\n",
      "With d 7 ,area is: 0.36889634896333057\n",
      "With d 8 ,area is: 0.3700225974020339\n",
      "With d 9 ,area is: 0.37071846968685707\n",
      "With d 10 ,area is: 0.3711568880859637\n"
     ]
    }
   ],
   "source": [
    "#For depth\n",
    "depth = [1,2,3,4,5,6,7,8,9,10]\n",
    "\n",
    "#Loop for the tuning\n",
    "for d in depth:\n",
    "    clf = CatBoostClassifier(\n",
    "        iterations = 500, #from above and did some iterations\n",
    "        depth = d,\n",
    "        learning_rate=0.01, #from above and did some iterations\n",
    "        task_type = \"GPU\",\n",
    "        verbose = False)\n",
    "\n",
    "    clf.fit(X_train, list(map(int , y_train)))\n",
    "\n",
    "    y_pred = (clf.predict_proba(X_test)[:, 1] >= 0.21).astype('int')\n",
    "    precision, recall, _ = metrics.precision_recall_curve(y_test, y_pred)\n",
    "    prec_recall_area.append(np.trapz(recall,precision))\n",
    "    print(\"With d\",d , \",area is:\" ,np.trapz(recall,precision))\n"
   ]
  },
  {
   "cell_type": "code",
   "execution_count": null,
   "metadata": {
    "colab": {
     "base_uri": "https://localhost:8080/"
    },
    "id": "G1Vr7us3MikO",
    "outputId": "5fa4dfba-a36f-4029-c098-7c49d29f92f6"
   },
   "outputs": [
    {
     "name": "stdout",
     "output_type": "stream",
     "text": [
      "With temp: 0.1 ,area is: 0.3726099205264942\n",
      "With temp: 0.2 ,area is: 0.372483256570864\n",
      "With temp: 0.3 ,area is: 0.3724781358206065\n",
      "With temp: 0.4 ,area is: 0.3725242883815896\n",
      "With temp: 0.5 ,area is: 0.37251957955704645\n",
      "With temp: 0.6 ,area is: 0.3725259863997444\n",
      "With temp: 0.7 ,area is: 0.372415931119544\n",
      "With temp: 0.8 ,area is: 0.3723601502387831\n"
     ]
    }
   ],
   "source": [
    "#for bagging temperature\n",
    "temperature = [0.1,0.2,0.3,0.4,0.5,0.6,0.7,0.8,0.9]\n",
    "\n",
    "#Loop for the tuning\n",
    "for temp in temperature:\n",
    "    clf = CatBoostClassifier(\n",
    "        iterations = 500, \n",
    "        depth = 14, #From above and did some iterations\n",
    "        learning_rate=0.01,\n",
    "        bagging_temperature = temp,\n",
    "        task_type = \"GPU\",\n",
    "        verbose = False)\n",
    "\n",
    "    clf.fit(X_train, list(map(int , y_train)))\n",
    "\n",
    "    y_pred = (clf.predict_proba(X_test)[:, 1] >= 0.21).astype('int')\n",
    "    precision, recall, _ = metrics.precision_recall_curve(y_test, y_pred)\n",
    "    prec_recall_area.append(np.trapz(recall,precision))\n",
    "    print(\"With temp:\",temp , \",area is:\" ,np.trapz(recall,precision))"
   ]
  },
  {
   "cell_type": "code",
   "execution_count": 13,
   "metadata": {
    "colab": {
     "base_uri": "https://localhost:8080/"
    },
    "id": "XFFGTHMs9FSo",
    "outputId": "1165699c-5c92-41e7-d287-529876f62a54"
   },
   "outputs": [
    {
     "name": "stdout",
     "output_type": "stream",
     "text": [
      "0:\tlearn: 0.6806261\ttotal: 442ms\tremaining: 7m 21s\n",
      "3:\tlearn: 0.6448368\ttotal: 1.53s\tremaining: 6m 20s\n",
      "6:\tlearn: 0.6120106\ttotal: 2.64s\tremaining: 6m 13s\n",
      "9:\tlearn: 0.5822676\ttotal: 3.73s\tremaining: 6m 9s\n",
      "12:\tlearn: 0.5548349\ttotal: 4.84s\tremaining: 6m 7s\n",
      "15:\tlearn: 0.5301075\ttotal: 5.84s\tremaining: 5m 59s\n",
      "18:\tlearn: 0.5074424\ttotal: 6.92s\tremaining: 5m 57s\n",
      "21:\tlearn: 0.4866210\ttotal: 8.01s\tremaining: 5m 56s\n",
      "24:\tlearn: 0.4676638\ttotal: 9.09s\tremaining: 5m 54s\n",
      "27:\tlearn: 0.4503251\ttotal: 10.2s\tremaining: 5m 53s\n",
      "30:\tlearn: 0.4344308\ttotal: 11.1s\tremaining: 5m 46s\n",
      "33:\tlearn: 0.4199493\ttotal: 12.2s\tremaining: 5m 45s\n",
      "36:\tlearn: 0.4065720\ttotal: 13.3s\tremaining: 5m 45s\n",
      "39:\tlearn: 0.3944727\ttotal: 14.4s\tremaining: 5m 45s\n",
      "42:\tlearn: 0.3832383\ttotal: 15.5s\tremaining: 5m 44s\n",
      "45:\tlearn: 0.3730587\ttotal: 16.6s\tremaining: 5m 44s\n",
      "48:\tlearn: 0.3637481\ttotal: 17.7s\tremaining: 5m 43s\n",
      "51:\tlearn: 0.3551592\ttotal: 18.8s\tremaining: 5m 43s\n",
      "54:\tlearn: 0.3471480\ttotal: 19.9s\tremaining: 5m 42s\n",
      "57:\tlearn: 0.3398460\ttotal: 21.1s\tremaining: 5m 42s\n",
      "60:\tlearn: 0.3331311\ttotal: 22.2s\tremaining: 5m 41s\n",
      "63:\tlearn: 0.3269731\ttotal: 23.3s\tremaining: 5m 40s\n",
      "66:\tlearn: 0.3213322\ttotal: 24.4s\tremaining: 5m 40s\n",
      "69:\tlearn: 0.3160889\ttotal: 25.6s\tremaining: 5m 39s\n",
      "72:\tlearn: 0.3112794\ttotal: 26.7s\tremaining: 5m 38s\n",
      "75:\tlearn: 0.3068853\ttotal: 27.5s\tremaining: 5m 34s\n",
      "78:\tlearn: 0.3027726\ttotal: 28.6s\tremaining: 5m 33s\n",
      "81:\tlearn: 0.2990523\ttotal: 29.8s\tremaining: 5m 33s\n",
      "84:\tlearn: 0.2955600\ttotal: 30.9s\tremaining: 5m 32s\n",
      "87:\tlearn: 0.2923745\ttotal: 32s\tremaining: 5m 31s\n",
      "90:\tlearn: 0.2894015\ttotal: 33.1s\tremaining: 5m 31s\n",
      "93:\tlearn: 0.2866193\ttotal: 34.2s\tremaining: 5m 29s\n",
      "96:\tlearn: 0.2840539\ttotal: 35.4s\tremaining: 5m 29s\n",
      "99:\tlearn: 0.2817071\ttotal: 36.5s\tremaining: 5m 28s\n",
      "102:\tlearn: 0.2795179\ttotal: 37.6s\tremaining: 5m 27s\n",
      "105:\tlearn: 0.2774666\ttotal: 38.7s\tremaining: 5m 26s\n",
      "108:\tlearn: 0.2754994\ttotal: 39.8s\tremaining: 5m 25s\n",
      "111:\tlearn: 0.2737451\ttotal: 41s\tremaining: 5m 24s\n",
      "114:\tlearn: 0.2721223\ttotal: 42.1s\tremaining: 5m 23s\n",
      "117:\tlearn: 0.2705771\ttotal: 43.2s\tremaining: 5m 22s\n",
      "120:\tlearn: 0.2691605\ttotal: 44.3s\tremaining: 5m 22s\n",
      "123:\tlearn: 0.2678148\ttotal: 45.5s\tremaining: 5m 21s\n",
      "126:\tlearn: 0.2665670\ttotal: 46.6s\tremaining: 5m 20s\n",
      "129:\tlearn: 0.2654353\ttotal: 47.7s\tremaining: 5m 19s\n",
      "132:\tlearn: 0.2643505\ttotal: 48.8s\tremaining: 5m 18s\n",
      "135:\tlearn: 0.2633291\ttotal: 50s\tremaining: 5m 17s\n",
      "138:\tlearn: 0.2623647\ttotal: 51.1s\tremaining: 5m 16s\n",
      "141:\tlearn: 0.2614768\ttotal: 52.2s\tremaining: 5m 15s\n",
      "144:\tlearn: 0.2606598\ttotal: 53.4s\tremaining: 5m 14s\n",
      "147:\tlearn: 0.2598859\ttotal: 54.5s\tremaining: 5m 13s\n",
      "150:\tlearn: 0.2591386\ttotal: 55.6s\tremaining: 5m 12s\n",
      "153:\tlearn: 0.2584839\ttotal: 56.8s\tremaining: 5m 11s\n",
      "156:\tlearn: 0.2578464\ttotal: 57.9s\tremaining: 5m 11s\n",
      "159:\tlearn: 0.2572596\ttotal: 59s\tremaining: 5m 10s\n",
      "162:\tlearn: 0.2567054\ttotal: 1m\tremaining: 5m 9s\n",
      "165:\tlearn: 0.2561934\ttotal: 1m 1s\tremaining: 5m 8s\n",
      "168:\tlearn: 0.2556905\ttotal: 1m 2s\tremaining: 5m 7s\n",
      "171:\tlearn: 0.2552006\ttotal: 1m 3s\tremaining: 5m 6s\n",
      "174:\tlearn: 0.2547586\ttotal: 1m 4s\tremaining: 5m 5s\n",
      "177:\tlearn: 0.2543279\ttotal: 1m 6s\tremaining: 5m 5s\n",
      "180:\tlearn: 0.2539181\ttotal: 1m 7s\tremaining: 5m 4s\n",
      "183:\tlearn: 0.2535439\ttotal: 1m 8s\tremaining: 5m 3s\n",
      "186:\tlearn: 0.2531927\ttotal: 1m 9s\tremaining: 5m 2s\n",
      "189:\tlearn: 0.2528703\ttotal: 1m 10s\tremaining: 5m 1s\n",
      "192:\tlearn: 0.2525534\ttotal: 1m 11s\tremaining: 5m\n",
      "195:\tlearn: 0.2522567\ttotal: 1m 13s\tremaining: 4m 59s\n",
      "198:\tlearn: 0.2519915\ttotal: 1m 14s\tremaining: 4m 59s\n",
      "201:\tlearn: 0.2517123\ttotal: 1m 15s\tremaining: 4m 58s\n",
      "204:\tlearn: 0.2514539\ttotal: 1m 16s\tremaining: 4m 57s\n",
      "207:\tlearn: 0.2512200\ttotal: 1m 17s\tremaining: 4m 56s\n",
      "210:\tlearn: 0.2509871\ttotal: 1m 19s\tremaining: 4m 55s\n",
      "213:\tlearn: 0.2507670\ttotal: 1m 20s\tremaining: 4m 55s\n",
      "216:\tlearn: 0.2505682\ttotal: 1m 21s\tremaining: 4m 54s\n",
      "219:\tlearn: 0.2503791\ttotal: 1m 22s\tremaining: 4m 53s\n",
      "222:\tlearn: 0.2502055\ttotal: 1m 23s\tremaining: 4m 52s\n",
      "225:\tlearn: 0.2500256\ttotal: 1m 25s\tremaining: 4m 51s\n",
      "228:\tlearn: 0.2498576\ttotal: 1m 26s\tremaining: 4m 50s\n",
      "231:\tlearn: 0.2497031\ttotal: 1m 27s\tremaining: 4m 50s\n",
      "234:\tlearn: 0.2495564\ttotal: 1m 28s\tremaining: 4m 49s\n",
      "237:\tlearn: 0.2494170\ttotal: 1m 30s\tremaining: 4m 48s\n",
      "240:\tlearn: 0.2492747\ttotal: 1m 31s\tremaining: 4m 47s\n",
      "243:\tlearn: 0.2491425\ttotal: 1m 32s\tremaining: 4m 46s\n",
      "246:\tlearn: 0.2490137\ttotal: 1m 33s\tremaining: 4m 45s\n",
      "249:\tlearn: 0.2488988\ttotal: 1m 35s\tremaining: 4m 45s\n",
      "252:\tlearn: 0.2487826\ttotal: 1m 36s\tremaining: 4m 44s\n",
      "255:\tlearn: 0.2486735\ttotal: 1m 37s\tremaining: 4m 43s\n",
      "258:\tlearn: 0.2485683\ttotal: 1m 38s\tremaining: 4m 43s\n",
      "261:\tlearn: 0.2484614\ttotal: 1m 40s\tremaining: 4m 42s\n",
      "264:\tlearn: 0.2483620\ttotal: 1m 41s\tremaining: 4m 41s\n",
      "267:\tlearn: 0.2482681\ttotal: 1m 42s\tremaining: 4m 40s\n",
      "270:\tlearn: 0.2481723\ttotal: 1m 44s\tremaining: 4m 39s\n",
      "273:\tlearn: 0.2480778\ttotal: 1m 45s\tremaining: 4m 38s\n",
      "276:\tlearn: 0.2479917\ttotal: 1m 46s\tremaining: 4m 37s\n",
      "279:\tlearn: 0.2479116\ttotal: 1m 47s\tremaining: 4m 37s\n",
      "282:\tlearn: 0.2478401\ttotal: 1m 49s\tremaining: 4m 36s\n",
      "285:\tlearn: 0.2477617\ttotal: 1m 50s\tremaining: 4m 35s\n",
      "288:\tlearn: 0.2476924\ttotal: 1m 51s\tremaining: 4m 34s\n",
      "291:\tlearn: 0.2476224\ttotal: 1m 52s\tremaining: 4m 33s\n",
      "294:\tlearn: 0.2475630\ttotal: 1m 53s\tremaining: 4m 32s\n",
      "297:\tlearn: 0.2474970\ttotal: 1m 55s\tremaining: 4m 31s\n",
      "300:\tlearn: 0.2474336\ttotal: 1m 56s\tremaining: 4m 30s\n",
      "303:\tlearn: 0.2473744\ttotal: 1m 57s\tremaining: 4m 29s\n",
      "306:\tlearn: 0.2473185\ttotal: 1m 59s\tremaining: 4m 28s\n",
      "309:\tlearn: 0.2472598\ttotal: 2m\tremaining: 4m 27s\n",
      "312:\tlearn: 0.2471993\ttotal: 2m 1s\tremaining: 4m 27s\n",
      "315:\tlearn: 0.2471432\ttotal: 2m 2s\tremaining: 4m 26s\n",
      "318:\tlearn: 0.2470947\ttotal: 2m 4s\tremaining: 4m 25s\n",
      "321:\tlearn: 0.2470339\ttotal: 2m 5s\tremaining: 4m 24s\n",
      "324:\tlearn: 0.2469843\ttotal: 2m 6s\tremaining: 4m 23s\n",
      "327:\tlearn: 0.2469338\ttotal: 2m 8s\tremaining: 4m 22s\n",
      "330:\tlearn: 0.2468858\ttotal: 2m 9s\tremaining: 4m 21s\n",
      "333:\tlearn: 0.2468402\ttotal: 2m 10s\tremaining: 4m 20s\n",
      "336:\tlearn: 0.2467935\ttotal: 2m 11s\tremaining: 4m 19s\n",
      "339:\tlearn: 0.2467476\ttotal: 2m 13s\tremaining: 4m 18s\n",
      "342:\tlearn: 0.2467093\ttotal: 2m 14s\tremaining: 4m 17s\n",
      "345:\tlearn: 0.2466596\ttotal: 2m 15s\tremaining: 4m 16s\n",
      "348:\tlearn: 0.2466130\ttotal: 2m 16s\tremaining: 4m 15s\n",
      "351:\tlearn: 0.2465641\ttotal: 2m 18s\tremaining: 4m 14s\n",
      "354:\tlearn: 0.2465203\ttotal: 2m 19s\tremaining: 4m 13s\n",
      "357:\tlearn: 0.2464750\ttotal: 2m 20s\tremaining: 4m 12s\n",
      "360:\tlearn: 0.2464226\ttotal: 2m 21s\tremaining: 4m 11s\n",
      "363:\tlearn: 0.2463706\ttotal: 2m 23s\tremaining: 4m 10s\n",
      "366:\tlearn: 0.2463349\ttotal: 2m 24s\tremaining: 4m 9s\n",
      "369:\tlearn: 0.2462921\ttotal: 2m 25s\tremaining: 4m 8s\n",
      "372:\tlearn: 0.2462500\ttotal: 2m 27s\tremaining: 4m 7s\n",
      "375:\tlearn: 0.2462103\ttotal: 2m 28s\tremaining: 4m 6s\n",
      "378:\tlearn: 0.2461592\ttotal: 2m 29s\tremaining: 4m 5s\n",
      "381:\tlearn: 0.2461277\ttotal: 2m 30s\tremaining: 4m 4s\n",
      "384:\tlearn: 0.2460919\ttotal: 2m 32s\tremaining: 4m 2s\n",
      "387:\tlearn: 0.2460440\ttotal: 2m 33s\tremaining: 4m 1s\n",
      "390:\tlearn: 0.2460081\ttotal: 2m 34s\tremaining: 4m\n",
      "393:\tlearn: 0.2459688\ttotal: 2m 35s\tremaining: 3m 59s\n",
      "396:\tlearn: 0.2459334\ttotal: 2m 37s\tremaining: 3m 58s\n",
      "399:\tlearn: 0.2458907\ttotal: 2m 38s\tremaining: 3m 57s\n",
      "402:\tlearn: 0.2458569\ttotal: 2m 39s\tremaining: 3m 56s\n",
      "405:\tlearn: 0.2458043\ttotal: 2m 41s\tremaining: 3m 55s\n",
      "408:\tlearn: 0.2457637\ttotal: 2m 42s\tremaining: 3m 54s\n",
      "411:\tlearn: 0.2457367\ttotal: 2m 43s\tremaining: 3m 53s\n",
      "414:\tlearn: 0.2456977\ttotal: 2m 44s\tremaining: 3m 52s\n",
      "417:\tlearn: 0.2456694\ttotal: 2m 46s\tremaining: 3m 51s\n",
      "420:\tlearn: 0.2456287\ttotal: 2m 47s\tremaining: 3m 50s\n",
      "423:\tlearn: 0.2455839\ttotal: 2m 48s\tremaining: 3m 48s\n",
      "426:\tlearn: 0.2455360\ttotal: 2m 49s\tremaining: 3m 47s\n",
      "429:\tlearn: 0.2454889\ttotal: 2m 51s\tremaining: 3m 46s\n",
      "432:\tlearn: 0.2454482\ttotal: 2m 52s\tremaining: 3m 45s\n",
      "435:\tlearn: 0.2453952\ttotal: 2m 53s\tremaining: 3m 44s\n",
      "438:\tlearn: 0.2453474\ttotal: 2m 55s\tremaining: 3m 43s\n",
      "441:\tlearn: 0.2453080\ttotal: 2m 56s\tremaining: 3m 42s\n",
      "444:\tlearn: 0.2452686\ttotal: 2m 57s\tremaining: 3m 41s\n",
      "447:\tlearn: 0.2452371\ttotal: 2m 58s\tremaining: 3m 40s\n",
      "450:\tlearn: 0.2451891\ttotal: 3m\tremaining: 3m 39s\n",
      "453:\tlearn: 0.2451508\ttotal: 3m 1s\tremaining: 3m 38s\n",
      "456:\tlearn: 0.2451052\ttotal: 3m 2s\tremaining: 3m 37s\n",
      "459:\tlearn: 0.2450652\ttotal: 3m 4s\tremaining: 3m 36s\n",
      "462:\tlearn: 0.2450313\ttotal: 3m 5s\tremaining: 3m 35s\n",
      "465:\tlearn: 0.2449814\ttotal: 3m 6s\tremaining: 3m 34s\n",
      "468:\tlearn: 0.2449363\ttotal: 3m 8s\tremaining: 3m 32s\n",
      "471:\tlearn: 0.2448978\ttotal: 3m 9s\tremaining: 3m 31s\n",
      "474:\tlearn: 0.2448616\ttotal: 3m 10s\tremaining: 3m 30s\n",
      "477:\tlearn: 0.2448155\ttotal: 3m 12s\tremaining: 3m 29s\n",
      "480:\tlearn: 0.2447755\ttotal: 3m 13s\tremaining: 3m 28s\n",
      "483:\tlearn: 0.2447336\ttotal: 3m 14s\tremaining: 3m 27s\n",
      "486:\tlearn: 0.2446956\ttotal: 3m 15s\tremaining: 3m 26s\n",
      "489:\tlearn: 0.2446643\ttotal: 3m 17s\tremaining: 3m 25s\n",
      "492:\tlearn: 0.2446221\ttotal: 3m 18s\tremaining: 3m 24s\n",
      "495:\tlearn: 0.2445839\ttotal: 3m 19s\tremaining: 3m 23s\n",
      "498:\tlearn: 0.2445482\ttotal: 3m 21s\tremaining: 3m 22s\n",
      "501:\tlearn: 0.2445150\ttotal: 3m 22s\tremaining: 3m 20s\n",
      "504:\tlearn: 0.2444812\ttotal: 3m 23s\tremaining: 3m 19s\n",
      "507:\tlearn: 0.2444431\ttotal: 3m 25s\tremaining: 3m 18s\n",
      "510:\tlearn: 0.2444034\ttotal: 3m 26s\tremaining: 3m 17s\n",
      "513:\tlearn: 0.2443771\ttotal: 3m 27s\tremaining: 3m 16s\n",
      "516:\tlearn: 0.2443378\ttotal: 3m 29s\tremaining: 3m 15s\n",
      "519:\tlearn: 0.2443065\ttotal: 3m 30s\tremaining: 3m 14s\n",
      "522:\tlearn: 0.2442669\ttotal: 3m 31s\tremaining: 3m 13s\n",
      "525:\tlearn: 0.2442205\ttotal: 3m 32s\tremaining: 3m 11s\n",
      "528:\tlearn: 0.2441783\ttotal: 3m 34s\tremaining: 3m 10s\n",
      "531:\tlearn: 0.2441349\ttotal: 3m 35s\tremaining: 3m 9s\n",
      "534:\tlearn: 0.2440911\ttotal: 3m 37s\tremaining: 3m 8s\n",
      "537:\tlearn: 0.2440558\ttotal: 3m 38s\tremaining: 3m 7s\n",
      "540:\tlearn: 0.2440168\ttotal: 3m 39s\tremaining: 3m 6s\n",
      "543:\tlearn: 0.2439718\ttotal: 3m 40s\tremaining: 3m 5s\n",
      "546:\tlearn: 0.2439388\ttotal: 3m 42s\tremaining: 3m 4s\n",
      "549:\tlearn: 0.2439045\ttotal: 3m 43s\tremaining: 3m 2s\n",
      "552:\tlearn: 0.2438737\ttotal: 3m 44s\tremaining: 3m 1s\n",
      "555:\tlearn: 0.2438330\ttotal: 3m 46s\tremaining: 3m\n",
      "558:\tlearn: 0.2437874\ttotal: 3m 47s\tremaining: 2m 59s\n",
      "561:\tlearn: 0.2437570\ttotal: 3m 48s\tremaining: 2m 58s\n",
      "564:\tlearn: 0.2437245\ttotal: 3m 50s\tremaining: 2m 57s\n",
      "567:\tlearn: 0.2436814\ttotal: 3m 51s\tremaining: 2m 55s\n",
      "570:\tlearn: 0.2436488\ttotal: 3m 52s\tremaining: 2m 54s\n",
      "573:\tlearn: 0.2436056\ttotal: 3m 54s\tremaining: 2m 53s\n",
      "576:\tlearn: 0.2435762\ttotal: 3m 55s\tremaining: 2m 52s\n",
      "579:\tlearn: 0.2435270\ttotal: 3m 56s\tremaining: 2m 51s\n",
      "582:\tlearn: 0.2434881\ttotal: 3m 57s\tremaining: 2m 50s\n",
      "585:\tlearn: 0.2434453\ttotal: 3m 59s\tremaining: 2m 49s\n",
      "588:\tlearn: 0.2434173\ttotal: 4m\tremaining: 2m 47s\n",
      "591:\tlearn: 0.2433902\ttotal: 4m 1s\tremaining: 2m 46s\n",
      "594:\tlearn: 0.2433659\ttotal: 4m 3s\tremaining: 2m 45s\n",
      "597:\tlearn: 0.2433259\ttotal: 4m 4s\tremaining: 2m 44s\n",
      "600:\tlearn: 0.2432804\ttotal: 4m 5s\tremaining: 2m 43s\n",
      "603:\tlearn: 0.2432295\ttotal: 4m 7s\tremaining: 2m 41s\n",
      "606:\tlearn: 0.2431917\ttotal: 4m 8s\tremaining: 2m 40s\n",
      "609:\tlearn: 0.2431551\ttotal: 4m 9s\tremaining: 2m 39s\n",
      "612:\tlearn: 0.2431083\ttotal: 4m 10s\tremaining: 2m 38s\n",
      "615:\tlearn: 0.2430788\ttotal: 4m 12s\tremaining: 2m 37s\n",
      "618:\tlearn: 0.2430415\ttotal: 4m 13s\tremaining: 2m 36s\n",
      "621:\tlearn: 0.2430113\ttotal: 4m 14s\tremaining: 2m 34s\n",
      "624:\tlearn: 0.2429735\ttotal: 4m 16s\tremaining: 2m 33s\n",
      "627:\tlearn: 0.2429367\ttotal: 4m 17s\tremaining: 2m 32s\n",
      "630:\tlearn: 0.2429065\ttotal: 4m 18s\tremaining: 2m 31s\n",
      "633:\tlearn: 0.2428690\ttotal: 4m 19s\tremaining: 2m 30s\n",
      "636:\tlearn: 0.2428362\ttotal: 4m 21s\tremaining: 2m 28s\n",
      "639:\tlearn: 0.2428005\ttotal: 4m 22s\tremaining: 2m 27s\n",
      "642:\tlearn: 0.2427667\ttotal: 4m 23s\tremaining: 2m 26s\n",
      "645:\tlearn: 0.2427317\ttotal: 4m 25s\tremaining: 2m 25s\n",
      "648:\tlearn: 0.2426891\ttotal: 4m 26s\tremaining: 2m 24s\n",
      "651:\tlearn: 0.2426517\ttotal: 4m 27s\tremaining: 2m 22s\n",
      "654:\tlearn: 0.2426216\ttotal: 4m 28s\tremaining: 2m 21s\n",
      "657:\tlearn: 0.2425863\ttotal: 4m 30s\tremaining: 2m 20s\n",
      "660:\tlearn: 0.2425560\ttotal: 4m 31s\tremaining: 2m 19s\n",
      "663:\tlearn: 0.2425076\ttotal: 4m 32s\tremaining: 2m 18s\n",
      "666:\tlearn: 0.2424751\ttotal: 4m 34s\tremaining: 2m 16s\n",
      "669:\tlearn: 0.2424358\ttotal: 4m 35s\tremaining: 2m 15s\n",
      "672:\tlearn: 0.2423975\ttotal: 4m 36s\tremaining: 2m 14s\n",
      "675:\tlearn: 0.2423498\ttotal: 4m 38s\tremaining: 2m 13s\n",
      "678:\tlearn: 0.2423077\ttotal: 4m 39s\tremaining: 2m 12s\n",
      "681:\tlearn: 0.2422750\ttotal: 4m 40s\tremaining: 2m 10s\n",
      "684:\tlearn: 0.2422445\ttotal: 4m 41s\tremaining: 2m 9s\n",
      "687:\tlearn: 0.2422080\ttotal: 4m 43s\tremaining: 2m 8s\n",
      "690:\tlearn: 0.2421763\ttotal: 4m 44s\tremaining: 2m 7s\n",
      "693:\tlearn: 0.2421426\ttotal: 4m 45s\tremaining: 2m 6s\n",
      "696:\tlearn: 0.2421024\ttotal: 4m 47s\tremaining: 2m 4s\n",
      "699:\tlearn: 0.2420723\ttotal: 4m 48s\tremaining: 2m 3s\n",
      "702:\tlearn: 0.2420353\ttotal: 4m 49s\tremaining: 2m 2s\n",
      "705:\tlearn: 0.2420067\ttotal: 4m 50s\tremaining: 2m 1s\n",
      "708:\tlearn: 0.2419757\ttotal: 4m 52s\tremaining: 1m 59s\n",
      "711:\tlearn: 0.2419359\ttotal: 4m 53s\tremaining: 1m 58s\n",
      "714:\tlearn: 0.2418898\ttotal: 4m 54s\tremaining: 1m 57s\n",
      "717:\tlearn: 0.2418516\ttotal: 4m 56s\tremaining: 1m 56s\n",
      "720:\tlearn: 0.2418069\ttotal: 4m 57s\tremaining: 1m 55s\n",
      "723:\tlearn: 0.2417660\ttotal: 4m 58s\tremaining: 1m 53s\n",
      "726:\tlearn: 0.2417265\ttotal: 5m\tremaining: 1m 52s\n",
      "729:\tlearn: 0.2416965\ttotal: 5m 1s\tremaining: 1m 51s\n",
      "732:\tlearn: 0.2416510\ttotal: 5m 2s\tremaining: 1m 50s\n",
      "735:\tlearn: 0.2415963\ttotal: 5m 4s\tremaining: 1m 49s\n",
      "738:\tlearn: 0.2415594\ttotal: 5m 5s\tremaining: 1m 47s\n",
      "741:\tlearn: 0.2415209\ttotal: 5m 6s\tremaining: 1m 46s\n",
      "744:\tlearn: 0.2414849\ttotal: 5m 7s\tremaining: 1m 45s\n",
      "747:\tlearn: 0.2414549\ttotal: 5m 9s\tremaining: 1m 44s\n",
      "750:\tlearn: 0.2414259\ttotal: 5m 10s\tremaining: 1m 42s\n",
      "753:\tlearn: 0.2413848\ttotal: 5m 11s\tremaining: 1m 41s\n",
      "756:\tlearn: 0.2413493\ttotal: 5m 13s\tremaining: 1m 40s\n",
      "759:\tlearn: 0.2413157\ttotal: 5m 14s\tremaining: 1m 39s\n",
      "762:\tlearn: 0.2412727\ttotal: 5m 15s\tremaining: 1m 38s\n",
      "765:\tlearn: 0.2412440\ttotal: 5m 16s\tremaining: 1m 36s\n",
      "768:\tlearn: 0.2412200\ttotal: 5m 18s\tremaining: 1m 35s\n",
      "771:\tlearn: 0.2411879\ttotal: 5m 19s\tremaining: 1m 34s\n",
      "774:\tlearn: 0.2411485\ttotal: 5m 20s\tremaining: 1m 33s\n",
      "777:\tlearn: 0.2411091\ttotal: 5m 22s\tremaining: 1m 31s\n",
      "780:\tlearn: 0.2410676\ttotal: 5m 23s\tremaining: 1m 30s\n",
      "783:\tlearn: 0.2410338\ttotal: 5m 24s\tremaining: 1m 29s\n",
      "786:\tlearn: 0.2409980\ttotal: 5m 25s\tremaining: 1m 28s\n",
      "789:\tlearn: 0.2409600\ttotal: 5m 27s\tremaining: 1m 26s\n",
      "792:\tlearn: 0.2409319\ttotal: 5m 28s\tremaining: 1m 25s\n",
      "795:\tlearn: 0.2408903\ttotal: 5m 29s\tremaining: 1m 24s\n",
      "798:\tlearn: 0.2408596\ttotal: 5m 31s\tremaining: 1m 23s\n",
      "801:\tlearn: 0.2408274\ttotal: 5m 32s\tremaining: 1m 22s\n",
      "804:\tlearn: 0.2407957\ttotal: 5m 33s\tremaining: 1m 20s\n",
      "807:\tlearn: 0.2407686\ttotal: 5m 34s\tremaining: 1m 19s\n",
      "810:\tlearn: 0.2407367\ttotal: 5m 36s\tremaining: 1m 18s\n",
      "813:\tlearn: 0.2406994\ttotal: 5m 37s\tremaining: 1m 17s\n",
      "816:\tlearn: 0.2406642\ttotal: 5m 38s\tremaining: 1m 15s\n",
      "819:\tlearn: 0.2406337\ttotal: 5m 40s\tremaining: 1m 14s\n",
      "822:\tlearn: 0.2406022\ttotal: 5m 41s\tremaining: 1m 13s\n",
      "825:\tlearn: 0.2405563\ttotal: 5m 42s\tremaining: 1m 12s\n",
      "828:\tlearn: 0.2405285\ttotal: 5m 44s\tremaining: 1m 10s\n",
      "831:\tlearn: 0.2404933\ttotal: 5m 45s\tremaining: 1m 9s\n",
      "834:\tlearn: 0.2404569\ttotal: 5m 46s\tremaining: 1m 8s\n",
      "837:\tlearn: 0.2404269\ttotal: 5m 47s\tremaining: 1m 7s\n",
      "840:\tlearn: 0.2403936\ttotal: 5m 49s\tremaining: 1m 6s\n",
      "843:\tlearn: 0.2403544\ttotal: 5m 50s\tremaining: 1m 4s\n",
      "846:\tlearn: 0.2403137\ttotal: 5m 51s\tremaining: 1m 3s\n",
      "849:\tlearn: 0.2402819\ttotal: 5m 53s\tremaining: 1m 2s\n",
      "852:\tlearn: 0.2402498\ttotal: 5m 54s\tremaining: 1m 1s\n",
      "855:\tlearn: 0.2402255\ttotal: 5m 55s\tremaining: 59.8s\n",
      "858:\tlearn: 0.2401847\ttotal: 5m 56s\tremaining: 58.6s\n",
      "861:\tlearn: 0.2401573\ttotal: 5m 58s\tremaining: 57.3s\n",
      "864:\tlearn: 0.2401207\ttotal: 5m 59s\tremaining: 56.1s\n",
      "867:\tlearn: 0.2400743\ttotal: 6m\tremaining: 54.9s\n",
      "870:\tlearn: 0.2400418\ttotal: 6m 2s\tremaining: 53.6s\n",
      "873:\tlearn: 0.2400075\ttotal: 6m 3s\tremaining: 52.4s\n",
      "876:\tlearn: 0.2399716\ttotal: 6m 4s\tremaining: 51.2s\n",
      "879:\tlearn: 0.2399214\ttotal: 6m 6s\tremaining: 49.9s\n",
      "882:\tlearn: 0.2398752\ttotal: 6m 7s\tremaining: 48.7s\n",
      "885:\tlearn: 0.2398429\ttotal: 6m 8s\tremaining: 47.4s\n",
      "888:\tlearn: 0.2398039\ttotal: 6m 10s\tremaining: 46.2s\n",
      "891:\tlearn: 0.2397660\ttotal: 6m 11s\tremaining: 45s\n",
      "894:\tlearn: 0.2397267\ttotal: 6m 12s\tremaining: 43.7s\n",
      "897:\tlearn: 0.2396912\ttotal: 6m 13s\tremaining: 42.5s\n",
      "900:\tlearn: 0.2396591\ttotal: 6m 15s\tremaining: 41.2s\n",
      "903:\tlearn: 0.2396326\ttotal: 6m 16s\tremaining: 40s\n",
      "906:\tlearn: 0.2395986\ttotal: 6m 17s\tremaining: 38.7s\n",
      "909:\tlearn: 0.2395709\ttotal: 6m 18s\tremaining: 37.5s\n",
      "912:\tlearn: 0.2395307\ttotal: 6m 20s\tremaining: 36.2s\n",
      "915:\tlearn: 0.2395029\ttotal: 6m 21s\tremaining: 35s\n",
      "918:\tlearn: 0.2394609\ttotal: 6m 22s\tremaining: 33.7s\n",
      "921:\tlearn: 0.2394218\ttotal: 6m 24s\tremaining: 32.5s\n",
      "924:\tlearn: 0.2393741\ttotal: 6m 25s\tremaining: 31.3s\n",
      "927:\tlearn: 0.2393326\ttotal: 6m 26s\tremaining: 30s\n",
      "930:\tlearn: 0.2392993\ttotal: 6m 28s\tremaining: 28.8s\n",
      "933:\tlearn: 0.2392620\ttotal: 6m 29s\tremaining: 27.5s\n",
      "936:\tlearn: 0.2392127\ttotal: 6m 30s\tremaining: 26.3s\n",
      "939:\tlearn: 0.2391810\ttotal: 6m 31s\tremaining: 25s\n",
      "942:\tlearn: 0.2391360\ttotal: 6m 33s\tremaining: 23.8s\n",
      "945:\tlearn: 0.2390968\ttotal: 6m 34s\tremaining: 22.5s\n",
      "948:\tlearn: 0.2390626\ttotal: 6m 35s\tremaining: 21.3s\n",
      "951:\tlearn: 0.2390310\ttotal: 6m 37s\tremaining: 20s\n",
      "954:\tlearn: 0.2390062\ttotal: 6m 38s\tremaining: 18.8s\n",
      "957:\tlearn: 0.2389706\ttotal: 6m 39s\tremaining: 17.5s\n",
      "960:\tlearn: 0.2389241\ttotal: 6m 41s\tremaining: 16.3s\n",
      "963:\tlearn: 0.2388904\ttotal: 6m 42s\tremaining: 15s\n",
      "966:\tlearn: 0.2388406\ttotal: 6m 43s\tremaining: 13.8s\n",
      "969:\tlearn: 0.2388087\ttotal: 6m 45s\tremaining: 12.5s\n",
      "972:\tlearn: 0.2387798\ttotal: 6m 46s\tremaining: 11.3s\n",
      "975:\tlearn: 0.2387444\ttotal: 6m 47s\tremaining: 10s\n",
      "978:\tlearn: 0.2387100\ttotal: 6m 48s\tremaining: 8.77s\n",
      "981:\tlearn: 0.2386715\ttotal: 6m 50s\tremaining: 7.52s\n",
      "984:\tlearn: 0.2386440\ttotal: 6m 51s\tremaining: 6.26s\n",
      "987:\tlearn: 0.2386123\ttotal: 6m 52s\tremaining: 5.01s\n",
      "990:\tlearn: 0.2385716\ttotal: 6m 53s\tremaining: 3.76s\n",
      "993:\tlearn: 0.2385264\ttotal: 6m 55s\tremaining: 2.51s\n",
      "996:\tlearn: 0.2385007\ttotal: 6m 56s\tremaining: 1.25s\n",
      "999:\tlearn: 0.2384624\ttotal: 6m 57s\tremaining: 0us\n"
     ]
    },
    {
     "data": {
      "text/plain": [
       "<catboost.core.CatBoostClassifier at 0x7f2427fb8a58>"
      ]
     },
     "execution_count": 13,
     "metadata": {
      "tags": []
     },
     "output_type": "execute_result"
    }
   ],
   "source": [
    "#Taking the best one.\n",
    "#lr = 0.01,iter : 500 , depth: 14 , bagging_temperature : 0.1\n",
    "clf = CatBoostClassifier(\n",
    "    iterations = 1000, \n",
    "    random_strength = 0.5,\n",
    "    depth = 14,\n",
    "    learning_rate=0.01,\n",
    "    bagging_temperature = 0.1,\n",
    "    task_type = \"GPU\",\n",
    "    verbose = 3\n",
    ")\n",
    "\n",
    "#Mapping y into int format---- [0.0 , 1.0]---> [0,1] (Essential for catboost classifier)\n",
    "clf.fit(X_train, list(map(int , y_train)))\n"
   ]
  },
  {
   "cell_type": "code",
   "execution_count": null,
   "metadata": {
    "colab": {
     "base_uri": "https://localhost:8080/",
     "height": 755
    },
    "id": "DHsy7qcfy-Ne",
    "outputId": "1fe59ac0-7e0f-4311-dba0-2bea95c41ab1"
   },
   "outputs": [
    {
     "name": "stderr",
     "output_type": "stream",
     "text": [
      "100%|██████████| 27/27 [10:45<00:00, 23.89s/it]\n"
     ]
    },
    {
     "data": {
      "image/png": "[encoded data removed]",
      "text/plain": [
       "<Figure size 720x720 with 1 Axes>"
      ]
     },
     "metadata": {
      "needs_background": "light",
      "tags": []
     },
     "output_type": "display_data"
    }
   ],
   "source": [
    "thresholds = clf.predict_proba(X_test)[:, 1]\n",
    "f1_scores = []\n",
    "values = np.arange(np.mean(thresholds)-(2*np.std(thresholds)) , np.mean(thresholds) +(2*np.std(thresholds))  , 0.02)\n",
    "for value in tqdm(values):\n",
    "    y_pred = (clf.predict_proba(X_test)[:, 1] >= value).astype('int')\n",
    "    f1_scores.append(metrics.f1_score(y_test , y_pred))\n",
    "\n",
    "plt.figure(figsize=(10,10))\n",
    "sns.barplot(values , f1_scores , color = \"red\")\n",
    "plt.xlabel(\"thresholds\")\n",
    "plt.ylabel(\"F1-score\")\n",
    "plt.title(\"Thresholds vs F1-score\")\n",
    "plt.grid(True)\n",
    "plt.xticks(rotation = 90)\n",
    "\n",
    "plt.show()"
   ]
  },
  {
   "cell_type": "code",
   "execution_count": 14,
   "metadata": {
    "colab": {
     "base_uri": "https://localhost:8080/",
     "height": 304
    },
    "id": "ftpy2kIfy-gd",
    "outputId": "b87da7b2-b5ee-41ba-e25b-d0bda896a5a5"
   },
   "outputs": [
    {
     "name": "stdout",
     "output_type": "stream",
     "text": [
      "Confusion Matrix for Test-\n"
     ]
    },
    {
     "data": {
      "image/png": "[encoded data removed]",
      "text/plain": [
       "<Figure size 1440x288 with 6 Axes>"
      ]
     },
     "metadata": {
      "needs_background": "light",
      "tags": []
     },
     "output_type": "display_data"
    }
   ],
   "source": [
    "#Please run the cell with plot_confusion_matrix funtion first then run this cell\n",
    "\n",
    "y_pred = (clf.predict_proba(X_test)[:, 1] >= 0.21).astype('int')\n",
    "#y_pred\n",
    "print(\"Confusion Matrix for Test-\")\n",
    "plot_confusion_matrix(y_test,y_pred)"
   ]
  },
  {
   "cell_type": "code",
   "execution_count": 15,
   "metadata": {
    "colab": {
     "base_uri": "https://localhost:8080/"
    },
    "id": "Y9Tp3EcyzXyE",
    "outputId": "4a899f4a-08b0-407b-d920-4b1ff7219456"
   },
   "outputs": [
    {
     "name": "stdout",
     "output_type": "stream",
     "text": [
      "Training F1 Score: 0.4604873389601336\n",
      "Test F1 Score: 0.4397649532146611\n"
     ]
    }
   ],
   "source": [
    "y_train_pred =(clf.predict_proba(X_train)[:, 1] >= 0.21).astype('int')\n",
    "print(\"Training F1 Score:\", metrics.f1_score(y_train , y_train_pred))\n",
    "print(\"Test F1 Score:\",metrics.f1_score(y_test , y_pred))"
   ]
  },
  {
   "cell_type": "code",
   "execution_count": 16,
   "metadata": {
    "colab": {
     "base_uri": "https://localhost:8080/",
     "height": 295
    },
    "id": "49CAHpdRzqps",
    "outputId": "06eb3dd9-9d95-43b7-f524-9dbd64d69fae"
   },
   "outputs": [
    {
     "data": {
      "image/png": "[encoded data removed]",
      "text/plain": [
       "<Figure size 432x288 with 1 Axes>"
      ]
     },
     "metadata": {
      "needs_background": "light",
      "tags": []
     },
     "output_type": "display_data"
    }
   ],
   "source": [
    "fpr,tpr,ths = roc_curve(y_test,y_pred)\n",
    "auc_sc = auc(fpr, tpr)\n",
    "plt.plot(fpr, tpr, color='red',label='ROC curve (area = %0.2f)' % auc_sc)\n",
    "plt.xlabel('False Positive Rate')\n",
    "plt.ylabel('True Positive Rate')\n",
    "plt.title('Receiver operating characteristic with test data')\n",
    "plt.legend()\n",
    "plt.show()"
   ]
  },
  {
   "cell_type": "code",
   "execution_count": 17,
   "metadata": {
    "colab": {
     "base_uri": "https://localhost:8080/",
     "height": 312
    },
    "id": "_CzigubPztRd",
    "outputId": "c3e70260-9d67-40d5-96e9-22d7916aa49b"
   },
   "outputs": [
    {
     "data": {
      "image/png": "[encoded data removed]",
      "text/plain": [
       "<Figure size 432x288 with 1 Axes>"
      ]
     },
     "metadata": {
      "needs_background": "light",
      "tags": []
     },
     "output_type": "display_data"
    },
    {
     "name": "stdout",
     "output_type": "stream",
     "text": [
      "Area Under this curve :  0.3752708015847912\n"
     ]
    }
   ],
   "source": [
    "precision, recall, _ = metrics.precision_recall_curve(y_test, y_pred)\n",
    "plt.plot((recall),(precision), color='red')\n",
    "plt.xlabel('recall')\n",
    "plt.ylabel('precision')\n",
    "plt.title('Precision-Recall with test data')\n",
    "plt.show()\n",
    "\n",
    "print(\"Area Under this curve : \",np.trapz(recall,precision))"
   ]
  },
  {
   "cell_type": "code",
   "execution_count": 18,
   "metadata": {
    "colab": {
     "base_uri": "https://localhost:8080/",
     "height": 730
    },
    "id": "eKRd2_j62pqL",
    "outputId": "ab95fb99-9d37-4f34-c62c-921479740e42"
   },
   "outputs": [
    {
     "data": {
      "image/png": "[encoded data removed]",
      "text/plain": [
       "<Figure size 720x864 with 1 Axes>"
      ]
     },
     "metadata": {
      "needs_background": "light",
      "tags": []
     },
     "output_type": "display_data"
    }
   ],
   "source": [
    "features = X_train.columns\n",
    "importances = clf.feature_importances_\n",
    "indices = (np.argsort(importances))\n",
    "plt.figure(figsize=(10,12))\n",
    "plt.title('Feature Importances')\n",
    "plt.barh(range(len(indices)), importances[indices], color='r', align='center')\n",
    "plt.yticks(range(len(indices)), [features[i] for i in indices])\n",
    "plt.xlabel('Relative Importance')\n",
    "plt.show()"
   ]
  },
  {
   "cell_type": "code",
   "execution_count": 8,
   "metadata": {
    "colab": {
     "base_uri": "https://localhost:8080/"
    },
    "id": "ifxOe-4c3-ur",
    "outputId": "20c88c39-fe62-41fc-c374-994c8f20a3bb"
   },
   "outputs": [
    {
     "name": "stdout",
     "output_type": "stream",
     "text": [
      "Fitting the the model on whole data....\n",
      "0:\tlearn: 0.6806174\ttotal: 490ms\tremaining: 8m 9s\n",
      "100:\tlearn: 0.2809204\ttotal: 43.3s\tremaining: 6m 25s\n",
      "200:\tlearn: 0.2518466\ttotal: 1m 26s\tremaining: 5m 42s\n",
      "300:\tlearn: 0.2476303\ttotal: 2m 10s\tremaining: 5m 4s\n",
      "400:\tlearn: 0.2462787\ttotal: 2m 55s\tremaining: 4m 22s\n",
      "500:\tlearn: 0.2451952\ttotal: 3m 40s\tremaining: 3m 39s\n",
      "600:\tlearn: 0.2441689\ttotal: 4m 26s\tremaining: 2m 56s\n",
      "700:\tlearn: 0.2432228\ttotal: 5m 10s\tremaining: 2m 12s\n",
      "800:\tlearn: 0.2422836\ttotal: 5m 55s\tremaining: 1m 28s\n",
      "900:\tlearn: 0.2413235\ttotal: 6m 39s\tremaining: 43.9s\n",
      "999:\tlearn: 0.2404339\ttotal: 7m 23s\tremaining: 0us\n",
      "Fitting done.\n",
      "\n",
      "Saving the model...\n",
      "Saved...\n"
     ]
    }
   ],
   "source": [
    "#fitting in entire data\n",
    "clf = CatBoostClassifier(\n",
    "    iterations = 1000, \n",
    "    random_strength = 0.5,\n",
    "    depth = 14,\n",
    "    learning_rate=0.01,\n",
    "    bagging_temperature = 0.1,\n",
    "    task_type = \"GPU\",\n",
    "    verbose = 100\n",
    ")\n",
    "\n",
    "print(\"Fitting the the model on whole data....\")\n",
    "#Mapping y into int format---- [0.0 , 1.0]---> [0,1] (Essential for catboost classifier)\n",
    "clf.fit(X, list(map(int , y)))\n",
    "print(\"Fitting done.\")\n",
    "#Saving \n",
    "print()\n",
    "print(\"Saving the model...\")\n",
    "filename = 'CATBOOST.sav'\n",
    "pickle.dump(clf, open(filename, 'wb'))\n",
    "\n",
    "print(\"Saved...\")"
   ]
  },
  {
   "cell_type": "markdown",
   "metadata": {
    "id": "M6YzGdBIYaWw"
   },
   "source": [
    "<h1> MLP Classifier </h1>"
   ]
  },
  {
   "cell_type": "markdown",
   "metadata": {
    "id": "dO23t98XXq-k"
   },
   "source": [
    "<b>\n",
    "<div>\n",
    "Please run all the cells below for MLP Classifier </div>"
   ]
  },
  {
   "cell_type": "code",
   "execution_count": null,
   "metadata": {
    "colab": {
     "base_uri": "https://localhost:8080/",
     "height": 858
    },
    "id": "tE4ELpmkYfWy",
    "outputId": "adc3619b-4ee9-44ca-fe39-fc28831cac75"
   },
   "outputs": [
    {
     "name": "stdout",
     "output_type": "stream",
     "text": [
      "Iteration 1, loss = inf\n",
      "Iteration 2, loss = inf\n",
      "Iteration 3, loss = inf\n",
      "Iteration 4, loss = inf\n",
      "Iteration 5, loss = inf\n",
      "Iteration 6, loss = inf\n",
      "Iteration 7, loss = 0.26353480\n",
      "Iteration 8, loss = 0.26291831\n",
      "Iteration 9, loss = 0.26298802\n",
      "Iteration 10, loss = 0.26272234\n",
      "Iteration 11, loss = 0.26261478\n",
      "Iteration 12, loss = 0.26240279\n",
      "Iteration 13, loss = 0.26249572\n",
      "Iteration 14, loss = 0.26246979\n",
      "Iteration 15, loss = 0.26240699\n",
      "Iteration 16, loss = 0.26253592\n",
      "Iteration 17, loss = 0.26255726\n",
      "Iteration 18, loss = 0.26219054\n",
      "Iteration 19, loss = 0.26244684\n",
      "Iteration 20, loss = 0.26235919\n",
      "Iteration 21, loss = 0.26239644\n",
      "Iteration 22, loss = 0.26237850\n",
      "Iteration 23, loss = 0.26242757\n",
      "Iteration 24, loss = 0.26225759\n",
      "Iteration 25, loss = 0.26220967\n",
      "Iteration 26, loss = 0.26249003\n",
      "Iteration 27, loss = 0.26230704\n",
      "Iteration 28, loss = 0.26237086\n",
      "Iteration 29, loss = 0.26239389\n",
      "Training loss did not improve more than tol=0.000100 for 10 consecutive epochs. Stopping.\n",
      "Confusion Matrix for Test-\n"
     ]
    },
    {
     "data": {
      "image/png": "[encoded data removed]",
      "text/plain": [
       "<Figure size 1440x288 with 6 Axes>"
      ]
     },
     "metadata": {
      "needs_background": "light",
      "tags": []
     },
     "output_type": "display_data"
    },
    {
     "name": "stdout",
     "output_type": "stream",
     "text": [
      "\n",
      "Training F1 Score: 0.39273597710435526\n",
      "Test F1 Score: 0.3920251274273787\n"
     ]
    }
   ],
   "source": [
    "from sklearn.neural_network import MLPClassifier\n",
    "\n",
    "clf = MLPClassifier(hidden_layer_sizes=(100, ), activation='relu', solver='adam', \n",
    "                    alpha=0.0001, batch_size='auto', learning_rate='constant', learning_rate_init=0.001, power_t=0.5, \n",
    "                    max_iter=200, shuffle=True, random_state=None, tol=0.0001, warm_start=False, momentum=0.9, \n",
    "                    nesterovs_momentum=True, early_stopping=False, validation_fraction=0.1, beta_1=0.9, beta_2=0.999, epsilon=1e-08, \n",
    "                    n_iter_no_change=10 , verbose = True)\n",
    "\n",
    "clf.fit(X_train, y_train)\n",
    "\n",
    "y_pred = (clf.predict_proba(X_test)[:, 1] >= 0.21).astype('int')\n",
    "#y_pred\n",
    "print(\"Confusion Matrix for Test-\")\n",
    "plot_confusion_matrix(y_test,y_pred)\n",
    "\n",
    "print()\n",
    "\n",
    "\n",
    "y_train_pred =(clf.predict_proba(X_train)[:, 1] >= 0.21).astype('int')\n",
    "print(\"Training F1 Score:\", metrics.f1_score(y_train , y_train_pred))\n",
    "print(\"Test F1 Score:\",metrics.f1_score(y_test , y_pred))"
   ]
  },
  {
   "cell_type": "code",
   "execution_count": null,
   "metadata": {
    "colab": {
     "base_uri": "https://localhost:8080/",
     "height": 295
    },
    "id": "z20igxeiFs2O",
    "outputId": "49f360b0-36b2-4a03-d0df-2b8f894ec75f"
   },
   "outputs": [
    {
     "data": {
      "image/png": "[encoded data removed]",
      "text/plain": [
       "<Figure size 432x288 with 1 Axes>"
      ]
     },
     "metadata": {
      "needs_background": "light",
      "tags": []
     },
     "output_type": "display_data"
    }
   ],
   "source": [
    "fpr,tpr,ths = roc_curve(y_test,y_pred)\n",
    "auc_sc = auc(fpr, tpr)\n",
    "plt.plot(fpr, tpr, color='red',label='ROC curve (area = %0.2f)' % auc_sc)\n",
    "plt.xlabel('False Positive Rate')\n",
    "plt.ylabel('True Positive Rate')\n",
    "plt.title('Receiver operating characteristic with test data')\n",
    "plt.legend()\n",
    "plt.show()"
   ]
  },
  {
   "cell_type": "code",
   "execution_count": null,
   "metadata": {
    "colab": {
     "base_uri": "https://localhost:8080/",
     "height": 312
    },
    "id": "AbNKhWVTFJqt",
    "outputId": "e8decb0e-5388-4752-b5d1-4dafd90506bf"
   },
   "outputs": [
    {
     "data": {
      "image/png": "[encoded data removed]",
      "text/plain": [
       "<Figure size 432x288 with 1 Axes>"
      ]
     },
     "metadata": {
      "needs_background": "light",
      "tags": []
     },
     "output_type": "display_data"
    },
    {
     "name": "stdout",
     "output_type": "stream",
     "text": [
      "Area Under this curve :  0.34946557958308333\n"
     ]
    }
   ],
   "source": [
    "precision, recall, _ = metrics.precision_recall_curve(y_test, y_pred)\n",
    "plt.plot((recall),(precision), color='red')\n",
    "plt.xlabel('recall')\n",
    "plt.ylabel('precision')\n",
    "plt.title('Precision-Recall with test data')\n",
    "plt.show()\n",
    "\n",
    "print(\"Area Under this curve : \",np.trapz(recall,precision))"
   ]
  },
  {
   "cell_type": "markdown",
   "metadata": {
    "id": "dWPGn0eYovw7"
   },
   "source": [
    "<h1> Neural Network for the classification </h1>"
   ]
  },
  {
   "cell_type": "markdown",
   "metadata": {
    "id": "8_23qIfyX7L8"
   },
   "source": [
    "<h2> Libraries for NN's </h2>"
   ]
  },
  {
   "cell_type": "code",
   "execution_count": null,
   "metadata": {
    "id": "XFj4tf6vubwR"
   },
   "outputs": [],
   "source": [
    "from tensorflow.keras.models import Sequential\n",
    "from tensorflow.keras.layers import Dense, Conv1D, Flatten, MaxPooling1D\n",
    "import tensorflow as tf\n",
    "import random as rn"
   ]
  },
  {
   "cell_type": "markdown",
   "metadata": {
    "id": "xTyBTsBiYCBS"
   },
   "source": [
    "<h2> Making the dataset for neural networks </h2>"
   ]
  },
  {
   "cell_type": "code",
   "execution_count": null,
   "metadata": {
    "colab": {
     "base_uri": "https://localhost:8080/"
    },
    "id": "P_k_siU8pcnC",
    "outputId": "f9cf990e-6c3b-43d6-d7d3-fd91cfaef4df"
   },
   "outputs": [
    {
     "name": "stdout",
     "output_type": "stream",
     "text": [
      "preparing the datasets...\n",
      "\n",
      "Training shape--->  (5932262, 41, 1)\n",
      "Test shape    --->  (2542399, 41, 1)\n",
      "..Done\n"
     ]
    }
   ],
   "source": [
    "print(\"preparing the datasets...\")\n",
    "x_train = X_train.values.reshape(X_train.shape[0], X_train.shape[1], 1)\n",
    "x_test = X_test.values.reshape(X_test.shape[0], X_test.shape[1], 1)\n",
    "\n",
    "print()\n",
    "print(\"Training shape---> \",x_train.shape)\n",
    "print(\"Test shape    ---> \",x_test.shape)\n",
    "\n",
    "print(\"..Done\")"
   ]
  },
  {
   "cell_type": "markdown",
   "metadata": {
    "id": "GiDfkhd20WfW"
   },
   "source": [
    "<h1> Conv1D with dense layers </h1>"
   ]
  },
  {
   "cell_type": "code",
   "execution_count": null,
   "metadata": {
    "colab": {
     "base_uri": "https://localhost:8080/"
    },
    "id": "CHiGh_FWosm1",
    "outputId": "d29146bb-7857-4a92-f1b7-10e6a91213e5"
   },
   "outputs": [
    {
     "name": "stdout",
     "output_type": "stream",
     "text": [
      "Model: \"sequential\"\n",
      "_________________________________________________________________\n",
      "Layer (type)                 Output Shape              Param #   \n",
      "=================================================================\n",
      "conv1d (Conv1D)              (None, 4, 2)              22        \n",
      "_________________________________________________________________\n",
      "conv1d_1 (Conv1D)            (None, 4, 1)              3         \n",
      "_________________________________________________________________\n",
      "batch_normalization (BatchNo (None, 4, 1)              4         \n",
      "_________________________________________________________________\n",
      "dense (Dense)                (None, 4, 64)             128       \n",
      "_________________________________________________________________\n",
      "dense_1 (Dense)              (None, 4, 32)             2080      \n",
      "_________________________________________________________________\n",
      "batch_normalization_1 (Batch (None, 4, 32)             128       \n",
      "_________________________________________________________________\n",
      "dense_2 (Dense)              (None, 4, 16)             528       \n",
      "_________________________________________________________________\n",
      "dense_3 (Dense)              (None, 4, 8)              136       \n",
      "_________________________________________________________________\n",
      "max_pooling1d (MaxPooling1D) (None, 2, 8)              0         \n",
      "_________________________________________________________________\n",
      "flatten (Flatten)            (None, 16)                0         \n",
      "_________________________________________________________________\n",
      "dense_4 (Dense)              (None, 1)                 17        \n",
      "=================================================================\n",
      "Total params: 3,046\n",
      "Trainable params: 2,980\n",
      "Non-trainable params: 66\n",
      "_________________________________________________________________\n",
      "None\n",
      "Epoch 1/5\n",
      "370767/370767 - 1845s - loss: 0.2822 - accuracy: 0.9016 - val_loss: 0.3063 - val_accuracy: 0.9024\n",
      "Epoch 2/5\n",
      "370767/370767 - 1847s - loss: 0.2646 - accuracy: 0.9043 - val_loss: 0.3091 - val_accuracy: 0.9024\n",
      "Epoch 3/5\n",
      "370767/370767 - 1844s - loss: 0.2612 - accuracy: 0.9060 - val_loss: 0.3048 - val_accuracy: 0.9024\n",
      "Epoch 4/5\n",
      "370767/370767 - 1832s - loss: 0.2610 - accuracy: 0.9060 - val_loss: 0.3079 - val_accuracy: 0.9024\n",
      "Epoch 5/5\n",
      "370767/370767 - 1821s - loss: 0.2610 - accuracy: 0.9060 - val_loss: 0.2821 - val_accuracy: 0.9024\n"
     ]
    },
    {
     "data": {
      "text/plain": [
       "<tensorflow.python.keras.callbacks.History at 0x7ff690631f98>"
      ]
     },
     "execution_count": 9,
     "metadata": {
      "tags": []
     },
     "output_type": "execute_result"
    }
   ],
   "source": [
    "tf.keras.backend.clear_session()\n",
    "\n",
    "np.random.seed(0)\n",
    "rn.seed(0)\n",
    "\n",
    "\n",
    "model = Sequential()\n",
    "model.add(Conv1D(filters=2, kernel_size=10 ,strides=10, activation=\"relu\", input_shape=(41, 1),kernel_initializer='he_uniform'))\n",
    "\n",
    "model.add(Conv1D(filters=1, kernel_size=1,activation=\"relu\",kernel_initializer='he_uniform'))\n",
    "\n",
    "model.add(tf.keras.layers.BatchNormalization())\n",
    "\n",
    "model.add(Dense(64, activation=\"relu\",kernel_initializer='he_uniform'))\n",
    "\n",
    "model.add(Dense(32, activation=\"relu\",kernel_initializer='he_uniform'))\n",
    "\n",
    "model.add(tf.keras.layers.BatchNormalization())\n",
    "\n",
    "model.add(Dense(16, activation=\"relu\",kernel_initializer='he_uniform'))\n",
    "\n",
    "model.add(Dense(8, activation=\"relu\",kernel_initializer='he_uniform'))\n",
    "\n",
    "model.add(MaxPooling1D(padding='valid'))\n",
    "\n",
    "model.add(Flatten())\n",
    "\n",
    "model.add(Dense(1, activation = 'sigmoid'))\n",
    "opt = tf.optimizers.Adam(learning_rate=0.0001)\n",
    "model.compile(loss = 'binary_crossentropy', optimizer = opt,metrics=['accuracy'])\n",
    "print(model.summary())\n",
    "\n",
    "\n",
    "#model.fit(x_train, y_train, batch_size=16,epochs=100, verbose=2)\n",
    "model.fit(x_train, np.array(list(map(int , y_train))), batch_size=16,epochs=5,validation_data=(x_test,np.array(list(map(int , y_test)))),verbose=2)"
   ]
  },
  {
   "cell_type": "code",
   "execution_count": null,
   "metadata": {
    "colab": {
     "base_uri": "https://localhost:8080/"
    },
    "id": "Fsg1PrrRVkTu",
    "outputId": "2a1f98ee-0f4d-4b57-f660-5be205d26fc0"
   },
   "outputs": [
    {
     "name": "stdout",
     "output_type": "stream",
     "text": [
      "[0.06632225 0.06052536 0.03526392 ... 0.04061966 0.03941361 0.06866539]\n"
     ]
    }
   ],
   "source": [
    "y_pred = model.predict(x_test)\n",
    "#print(y_pred)\n",
    "\n",
    "#reshaping the output\n",
    "y_pred = np.reshape(y_pred , y_pred.shape[0])\n",
    "\n",
    "print(y_pred)"
   ]
  },
  {
   "cell_type": "code",
   "execution_count": null,
   "metadata": {
    "colab": {
     "base_uri": "https://localhost:8080/",
     "height": 651
    },
    "id": "xB5ipFrFQOFx",
    "outputId": "665bc519-e279-47e4-868c-fdc8dbbb9df1"
   },
   "outputs": [
    {
     "name": "stderr",
     "output_type": "stream",
     "text": [
      "100%|██████████| 18/18 [02:13<00:00,  7.41s/it]\n"
     ]
    },
    {
     "data": {
      "image/png": "[encoded data removed]",
      "text/plain": [
       "<Figure size 720x720 with 1 Axes>"
      ]
     },
     "metadata": {
      "needs_background": "light",
      "tags": []
     },
     "output_type": "display_data"
    }
   ],
   "source": [
    "#getting best threshold for best F1-Score\n",
    "y_pred_ = y_pred\n",
    "thresholds = [0.01 , 0.02 , 0.03 , 0.04 , 0.05 , 0.06 , 0.07 , 0.08 , 0.09 , 0.1 , 0.2 , 0.3 , 0.4 , 0.5 , 0.6 , 0.7 , 0.8 , 0.9]\n",
    "f1_scores = []\n",
    "\n",
    "\n",
    "for threshold in tqdm(thresholds):\n",
    "    y_pred_temp = [1 if i > threshold else 0 for i in y_pred_]\n",
    "    f1_scores.append(metrics.f1_score(y_test , y_pred_temp))\n",
    "\n",
    "plt.figure(figsize=(10,10))\n",
    "sns.barplot(thresholds , f1_scores , color = \"red\")\n",
    "plt.xlabel(\"thresholds\")\n",
    "plt.ylabel(\"F1-score\")\n",
    "plt.title(\"Thresholds vs F1-score\")\n",
    "plt.xticks(rotation = 90)\n",
    "plt.grid(True)\n",
    "\n",
    "plt.show()"
   ]
  },
  {
   "cell_type": "markdown",
   "metadata": {
    "id": "V8h_YHZt0QW3"
   },
   "source": [
    "<h1> Only Dense Layers<h1>"
   ]
  },
  {
   "cell_type": "markdown",
   "metadata": {
    "id": "twkY3uTBUdjd"
   },
   "source": [
    "<div>\n",
    "I ll suggest not to run this cell but i have kept it for reference as it was a 8th winner solution network but dont know why It didnt work out for me\n",
    "</div>"
   ]
  },
  {
   "cell_type": "code",
   "execution_count": null,
   "metadata": {
    "colab": {
     "base_uri": "https://localhost:8080/"
    },
    "id": "XouMw2PI5_qW",
    "outputId": "ee6cddeb-60bd-4be2-edf9-fefadebb9b41"
   },
   "outputs": [
    {
     "name": "stdout",
     "output_type": "stream",
     "text": [
      "Model: \"sequential\"\n",
      "_________________________________________________________________\n",
      "Layer (type)                 Output Shape              Param #   \n",
      "=================================================================\n",
      "dense (Dense)                (None, 41, 1024)          2048      \n",
      "_________________________________________________________________\n",
      "batch_normalization (BatchNo (None, 41, 1024)          4096      \n",
      "_________________________________________________________________\n",
      "dropout (Dropout)            (None, 41, 1024)          0         \n",
      "_________________________________________________________________\n",
      "dense_1 (Dense)              (None, 41, 512)           524800    \n",
      "_________________________________________________________________\n",
      "batch_normalization_1 (Batch (None, 41, 512)           2048      \n",
      "_________________________________________________________________\n",
      "dropout_1 (Dropout)          (None, 41, 512)           0         \n",
      "_________________________________________________________________\n",
      "flatten (Flatten)            (None, 20992)             0         \n",
      "_________________________________________________________________\n",
      "dense_2 (Dense)              (None, 1)                 20993     \n",
      "=================================================================\n",
      "Total params: 553,985\n",
      "Trainable params: 550,913\n",
      "Non-trainable params: 3,072\n",
      "_________________________________________________________________\n"
     ]
    }
   ],
   "source": [
    "tf.keras.backend.clear_session()\n",
    "\n",
    "np.random.seed(0)\n",
    "rn.seed(0)\n",
    "\n",
    "\n",
    "models = Sequential()\n",
    "models.add(Dense(1024, activation=\"relu\",input_shape=(41, 1), input_dim=3, kernel_initializer='lecun_uniform')) \n",
    "models.add(tf.keras.layers.BatchNormalization())    \n",
    "models.add(tf.keras.layers.Dropout(0.5))  \n",
    "models.add(Dense(512, activation='relu',kernel_initializer='lecun_uniform'))\n",
    "models.add(tf.keras.layers.BatchNormalization())    \n",
    "models.add(tf.keras.layers.Dropout(0.4)) \n",
    "models.add(Flatten()) \n",
    "models.add(Dense(1, activation='sigmoid' ,  kernel_initializer='lecun_uniform'))\n",
    "   \n",
    "opt = tf.optimizers.Adam(lr=0.01)\n",
    "models.compile(loss='binary_crossentropy', optimizer=opt,metrics=['accuracy'])\n",
    "models.summary()"
   ]
  },
  {
   "cell_type": "code",
   "execution_count": null,
   "metadata": {
    "colab": {
     "base_uri": "https://localhost:8080/"
    },
    "id": "p98tHF7J8aKx",
    "outputId": "f274e876-265c-4644-f8e8-e71dd195f43f"
   },
   "outputs": [
    {
     "name": "stdout",
     "output_type": "stream",
     "text": [
      "Epoch 1/5\n",
      "370767/370767 - 1175s - loss: 0.7480 - accuracy: 0.8455\n",
      "Epoch 2/5\n",
      "370767/370767 - 1174s - loss: 0.6780 - accuracy: 0.8484\n",
      "Epoch 3/5\n",
      "370767/370767 - 1176s - loss: 0.6575 - accuracy: 0.8496\n",
      "Epoch 4/5\n",
      "370767/370767 - 1167s - loss: 0.6429 - accuracy: 0.8506\n",
      "Epoch 5/5\n",
      "370767/370767 - 1170s - loss: 0.6540 - accuracy: 0.8500\n"
     ]
    },
    {
     "data": {
      "text/plain": [
       "<tensorflow.python.keras.callbacks.History at 0x7f5f3039b2e8>"
      ]
     },
     "execution_count": 18,
     "metadata": {
      "tags": []
     },
     "output_type": "execute_result"
    }
   ],
   "source": [
    "#Fitting\n",
    "models.fit(x_train, np.array(list(map(int , y_train))), batch_size=16,epochs=5, verbose=2)"
   ]
  },
  {
   "cell_type": "code",
   "execution_count": null,
   "metadata": {
    "colab": {
     "base_uri": "https://localhost:8080/"
    },
    "id": "dlbVgEjaFn2n",
    "outputId": "477750dc-8dd5-466e-dbf0-3d387daf3eff"
   },
   "outputs": [
    {
     "name": "stdout",
     "output_type": "stream",
     "text": [
      "[0.00030363 0.00048767 0.00031042 ... 0.00045346 0.00036042 0.00049601]\n"
     ]
    }
   ],
   "source": [
    "y_pred = models.predict(x_test)\n",
    "#print(y_pred)\n",
    "y_pred = np.reshape(y_pred , y_pred.shape[0])\n",
    "\n",
    "print(y_pred)"
   ]
  },
  {
   "cell_type": "code",
   "execution_count": null,
   "metadata": {
    "colab": {
     "base_uri": "https://localhost:8080/",
     "height": 367
    },
    "id": "4D0qDKUI6nl5",
    "outputId": "b202fb85-f873-4f18-a5bf-30bbbdf3fc33"
   },
   "outputs": [
    {
     "name": "stderr",
     "output_type": "stream",
     "text": [
      "100%|██████████| 4/4 [00:28<00:00,  7.17s/it]\n"
     ]
    },
    {
     "data": {
      "image/png": "[encoded data removed]",
      "text/plain": [
       "<Figure size 360x360 with 1 Axes>"
      ]
     },
     "metadata": {
      "needs_background": "light",
      "tags": []
     },
     "output_type": "display_data"
    }
   ],
   "source": [
    "#getting best threshold\n",
    "y_pred_ = y_pred\n",
    "thresholds = [0.0004 , 0.0005 , 0.0006 , 0.0007]\n",
    "f1_scores = []\n",
    "#values = np.arange(np.mean(thresholds)-np.std(thresholds) , np.mean(thresholds) +np.std(thresholds)  , 0.02)\n",
    "\n",
    "for threshold in tqdm(thresholds):\n",
    "    y_pred_temp = [1 if i > threshold else 0 for i in y_pred_]\n",
    "    f1_scores.append(metrics.f1_score(y_test , y_pred_temp))\n",
    "\n",
    "plt.figure(figsize=(5,5))\n",
    "sns.barplot(thresholds , f1_scores , color = \"red\")\n",
    "plt.xlabel(\"thresholds\")\n",
    "plt.ylabel(\"F1-score\")\n",
    "plt.title(\"Thresholds vs F1-score\")\n",
    "\n",
    "plt.show()\n",
    "    \n"
   ]
  },
  {
   "cell_type": "markdown",
   "metadata": {
    "id": "dRXyLA6tqTIw"
   },
   "source": [
    "<h1> Making the Prediction for data test </h1>\n",
    "\n",
    "<div>\n",
    "Guide to make the Prediction\n",
    "<ol>\n",
    "<li>Set the threshold</li>\n",
    "<li>if classifiying with the use of neural network run the cell with     \"#for neural networks\"</li>\n",
    "\n",
    "<li> if classififying using Classifier the run the cell with \"#for Classifiers\"</li>"
   ]
  },
  {
   "cell_type": "code",
   "execution_count": null,
   "metadata": {
    "id": "L_7iJy3kRdYk"
   },
   "outputs": [],
   "source": [
    "threshold = 0.21  # 0.1 for conv1d-NN and 0.0006 for dense-NN"
   ]
  },
  {
   "cell_type": "code",
   "execution_count": null,
   "metadata": {
    "id": "QYDamIY3C8Gt"
   },
   "outputs": [],
   "source": [
    "#For neural networks\n",
    "#threshold = 0.1\n",
    "test = data_test.values.reshape(data_test.shape[0], data_test.shape[1], 1)\n",
    "y_pred = model.predict(test)\n",
    "y_pred = np.reshape(y_pred , y_pred.shape[0])\n",
    "\n",
    "#taking the threshold and getting the values\n",
    "y_pred_test = [1 if i > threshold else 0 for i in y_pred]"
   ]
  },
  {
   "cell_type": "code",
   "execution_count": 9,
   "metadata": {
    "id": "zQUy36ggqTIw"
   },
   "outputs": [],
   "source": [
    "#For Classifiers\n",
    "\n",
    "threshold = 0.22\n",
    "y_pred_test = (clf.predict_proba(data_test)[:, 1] >= 0.21).astype('int')\n",
    "#y_pred_test"
   ]
  },
  {
   "cell_type": "markdown",
   "metadata": {
    "id": "qA_BHEAxTKx8"
   },
   "source": [
    "<h1> Making the submission file </h1>"
   ]
  },
  {
   "cell_type": "markdown",
   "metadata": {
    "id": "N9DcCy9RT54X"
   },
   "source": [
    "<b>\n",
    "<div> \n",
    "To make the submission file please run all the cells below.\n",
    "</div>"
   ]
  },
  {
   "cell_type": "code",
   "execution_count": 10,
   "metadata": {
    "colab": {
     "base_uri": "https://localhost:8080/",
     "height": 245
    },
    "id": "HFHJbJ3jqTIw",
    "outputId": "ede6aa8c-b891-450d-cf40-39d08ff3998d"
   },
   "outputs": [
    {
     "data": {
      "text/html": [
       "<div>\n",
       "<style scoped>\n",
       "    .dataframe tbody tr th:only-of-type {\n",
       "        vertical-align: middle;\n",
       "    }\n",
       "\n",
       "    .dataframe tbody tr th {\n",
       "        vertical-align: top;\n",
       "    }\n",
       "\n",
       "    .dataframe thead th {\n",
       "        text-align: right;\n",
       "    }\n",
       "</style>\n",
       "<table border=\"1\" class=\"dataframe\">\n",
       "  <thead>\n",
       "    <tr style=\"text-align: right;\">\n",
       "      <th></th>\n",
       "      <th></th>\n",
       "      <th>up_unique_dow</th>\n",
       "      <th>up_unique_hod</th>\n",
       "      <th>up_unique_atc</th>\n",
       "      <th>up_unique_reordered</th>\n",
       "      <th>up_cumcount_on</th>\n",
       "      <th>up_cumcount_dow</th>\n",
       "      <th>up_cumcount_hod</th>\n",
       "      <th>up_cumcount_dsp</th>\n",
       "      <th>up_cumcount_atc</th>\n",
       "      <th>up_orders_cumcount</th>\n",
       "      <th>up_orders_num</th>\n",
       "      <th>up_orders_since_previous</th>\n",
       "      <th>up_reordered</th>\n",
       "      <th>up_order_ratio</th>\n",
       "      <th>up_order_dow_score</th>\n",
       "      <th>up_order_hour_of_day_score</th>\n",
       "      <th>up_last_five</th>\n",
       "      <th>up_last_five_ratio</th>\n",
       "      <th>max_orders</th>\n",
       "      <th>total_items</th>\n",
       "      <th>orders_ratio</th>\n",
       "      <th>unique_products</th>\n",
       "      <th>num_reorders</th>\n",
       "      <th>reordered_mean</th>\n",
       "      <th>reordered_std</th>\n",
       "      <th>user_dow_mean</th>\n",
       "      <th>user_dow_var</th>\n",
       "      <th>user_dow_std</th>\n",
       "      <th>user_hod_mean</th>\n",
       "      <th>user_hod_var</th>\n",
       "      <th>user_hod_std</th>\n",
       "      <th>user_dsp_mean</th>\n",
       "      <th>user_dsp_var</th>\n",
       "      <th>user_dsp_std</th>\n",
       "      <th>prod_sum_on</th>\n",
       "      <th>prod_sum_dow</th>\n",
       "      <th>prod_sum_hod</th>\n",
       "      <th>prod_sum_dsp</th>\n",
       "      <th>prod_sum_atc</th>\n",
       "      <th>prod_sum_reordered</th>\n",
       "      <th>prod_num</th>\n",
       "      <th>prod_unique_users</th>\n",
       "      <th>prod_reorder_mean</th>\n",
       "      <th>prod_order_hour_of_day_mean</th>\n",
       "      <th>prod_order_hour_of_day_var</th>\n",
       "      <th>prod_order_dow_mean</th>\n",
       "      <th>prod_order_dow_var</th>\n",
       "      <th>prediction</th>\n",
       "    </tr>\n",
       "    <tr>\n",
       "      <th>user_id</th>\n",
       "      <th>product_id</th>\n",
       "      <th></th>\n",
       "      <th></th>\n",
       "      <th></th>\n",
       "      <th></th>\n",
       "      <th></th>\n",
       "      <th></th>\n",
       "      <th></th>\n",
       "      <th></th>\n",
       "      <th></th>\n",
       "      <th></th>\n",
       "      <th></th>\n",
       "      <th></th>\n",
       "      <th></th>\n",
       "      <th></th>\n",
       "      <th></th>\n",
       "      <th></th>\n",
       "      <th></th>\n",
       "      <th></th>\n",
       "      <th></th>\n",
       "      <th></th>\n",
       "      <th></th>\n",
       "      <th></th>\n",
       "      <th></th>\n",
       "      <th></th>\n",
       "      <th></th>\n",
       "      <th></th>\n",
       "      <th></th>\n",
       "      <th></th>\n",
       "      <th></th>\n",
       "      <th></th>\n",
       "      <th></th>\n",
       "      <th></th>\n",
       "      <th></th>\n",
       "      <th></th>\n",
       "      <th></th>\n",
       "      <th></th>\n",
       "      <th></th>\n",
       "      <th></th>\n",
       "      <th></th>\n",
       "      <th></th>\n",
       "      <th></th>\n",
       "      <th></th>\n",
       "      <th></th>\n",
       "      <th></th>\n",
       "      <th></th>\n",
       "      <th></th>\n",
       "      <th></th>\n",
       "      <th></th>\n",
       "    </tr>\n",
       "  </thead>\n",
       "  <tbody>\n",
       "    <tr>\n",
       "      <th rowspan=\"5\" valign=\"top\">3</th>\n",
       "      <th>248</th>\n",
       "      <td>1</td>\n",
       "      <td>1</td>\n",
       "      <td>1</td>\n",
       "      <td>1</td>\n",
       "      <td>2</td>\n",
       "      <td>3</td>\n",
       "      <td>19</td>\n",
       "      <td>9.0</td>\n",
       "      <td>3</td>\n",
       "      <td>1</td>\n",
       "      <td>1</td>\n",
       "      <td>10</td>\n",
       "      <td>0</td>\n",
       "      <td>0.083313</td>\n",
       "      <td>3.000000</td>\n",
       "      <td>19.000000</td>\n",
       "      <td>0.0</td>\n",
       "      <td>0.000000</td>\n",
       "      <td>12</td>\n",
       "      <td>88</td>\n",
       "      <td>0.136353</td>\n",
       "      <td>33</td>\n",
       "      <td>55</td>\n",
       "      <td>0.625</td>\n",
       "      <td>0.486816</td>\n",
       "      <td>1.011719</td>\n",
       "      <td>1.551758</td>\n",
       "      <td>1.246094</td>\n",
       "      <td>16.359375</td>\n",
       "      <td>2.115234</td>\n",
       "      <td>1.455078</td>\n",
       "      <td>11.484375</td>\n",
       "      <td>23.703125</td>\n",
       "      <td>4.867188</td>\n",
       "      <td>108051</td>\n",
       "      <td>16958</td>\n",
       "      <td>86297</td>\n",
       "      <td>65657.0</td>\n",
       "      <td>67665</td>\n",
       "      <td>2550</td>\n",
       "      <td>6371</td>\n",
       "      <td>3821</td>\n",
       "      <td>0.400146</td>\n",
       "      <td>13.546875</td>\n",
       "      <td>19.109375</td>\n",
       "      <td>2.662109</td>\n",
       "      <td>4.570312</td>\n",
       "      <td>0</td>\n",
       "    </tr>\n",
       "    <tr>\n",
       "      <th>1005</th>\n",
       "      <td>1</td>\n",
       "      <td>1</td>\n",
       "      <td>1</td>\n",
       "      <td>1</td>\n",
       "      <td>10</td>\n",
       "      <td>3</td>\n",
       "      <td>16</td>\n",
       "      <td>17.0</td>\n",
       "      <td>5</td>\n",
       "      <td>1</td>\n",
       "      <td>1</td>\n",
       "      <td>2</td>\n",
       "      <td>0</td>\n",
       "      <td>0.083313</td>\n",
       "      <td>3.000000</td>\n",
       "      <td>16.000000</td>\n",
       "      <td>1.0</td>\n",
       "      <td>0.199951</td>\n",
       "      <td>12</td>\n",
       "      <td>88</td>\n",
       "      <td>0.136353</td>\n",
       "      <td>33</td>\n",
       "      <td>55</td>\n",
       "      <td>0.625</td>\n",
       "      <td>0.486816</td>\n",
       "      <td>1.011719</td>\n",
       "      <td>1.551758</td>\n",
       "      <td>1.246094</td>\n",
       "      <td>16.359375</td>\n",
       "      <td>2.115234</td>\n",
       "      <td>1.455078</td>\n",
       "      <td>11.484375</td>\n",
       "      <td>23.703125</td>\n",
       "      <td>4.867188</td>\n",
       "      <td>9442</td>\n",
       "      <td>1321</td>\n",
       "      <td>5879</td>\n",
       "      <td>4514.0</td>\n",
       "      <td>4398</td>\n",
       "      <td>204</td>\n",
       "      <td>463</td>\n",
       "      <td>259</td>\n",
       "      <td>0.440674</td>\n",
       "      <td>12.695312</td>\n",
       "      <td>14.375000</td>\n",
       "      <td>2.853516</td>\n",
       "      <td>3.134766</td>\n",
       "      <td>0</td>\n",
       "    </tr>\n",
       "    <tr>\n",
       "      <th>1819</th>\n",
       "      <td>2</td>\n",
       "      <td>3</td>\n",
       "      <td>3</td>\n",
       "      <td>2</td>\n",
       "      <td>17</td>\n",
       "      <td>2</td>\n",
       "      <td>49</td>\n",
       "      <td>34.0</td>\n",
       "      <td>8</td>\n",
       "      <td>3</td>\n",
       "      <td>3</td>\n",
       "      <td>5</td>\n",
       "      <td>2</td>\n",
       "      <td>0.250000</td>\n",
       "      <td>0.666504</td>\n",
       "      <td>16.328125</td>\n",
       "      <td>0.0</td>\n",
       "      <td>0.000000</td>\n",
       "      <td>12</td>\n",
       "      <td>88</td>\n",
       "      <td>0.136353</td>\n",
       "      <td>33</td>\n",
       "      <td>55</td>\n",
       "      <td>0.625</td>\n",
       "      <td>0.486816</td>\n",
       "      <td>1.011719</td>\n",
       "      <td>1.551758</td>\n",
       "      <td>1.246094</td>\n",
       "      <td>16.359375</td>\n",
       "      <td>2.115234</td>\n",
       "      <td>1.455078</td>\n",
       "      <td>11.484375</td>\n",
       "      <td>23.703125</td>\n",
       "      <td>4.867188</td>\n",
       "      <td>47228</td>\n",
       "      <td>6513</td>\n",
       "      <td>32546</td>\n",
       "      <td>24038.0</td>\n",
       "      <td>22513</td>\n",
       "      <td>1193</td>\n",
       "      <td>2424</td>\n",
       "      <td>1231</td>\n",
       "      <td>0.492188</td>\n",
       "      <td>13.429688</td>\n",
       "      <td>17.437500</td>\n",
       "      <td>2.687500</td>\n",
       "      <td>4.226562</td>\n",
       "      <td>0</td>\n",
       "    </tr>\n",
       "    <tr>\n",
       "      <th>7503</th>\n",
       "      <td>1</td>\n",
       "      <td>1</td>\n",
       "      <td>1</td>\n",
       "      <td>1</td>\n",
       "      <td>3</td>\n",
       "      <td>3</td>\n",
       "      <td>16</td>\n",
       "      <td>21.0</td>\n",
       "      <td>6</td>\n",
       "      <td>1</td>\n",
       "      <td>1</td>\n",
       "      <td>9</td>\n",
       "      <td>0</td>\n",
       "      <td>0.083313</td>\n",
       "      <td>3.000000</td>\n",
       "      <td>16.000000</td>\n",
       "      <td>0.0</td>\n",
       "      <td>0.000000</td>\n",
       "      <td>12</td>\n",
       "      <td>88</td>\n",
       "      <td>0.136353</td>\n",
       "      <td>33</td>\n",
       "      <td>55</td>\n",
       "      <td>0.625</td>\n",
       "      <td>0.486816</td>\n",
       "      <td>1.011719</td>\n",
       "      <td>1.551758</td>\n",
       "      <td>1.246094</td>\n",
       "      <td>16.359375</td>\n",
       "      <td>2.115234</td>\n",
       "      <td>1.455078</td>\n",
       "      <td>11.484375</td>\n",
       "      <td>23.703125</td>\n",
       "      <td>4.867188</td>\n",
       "      <td>221375</td>\n",
       "      <td>33212</td>\n",
       "      <td>167039</td>\n",
       "      <td>128062.0</td>\n",
       "      <td>119094</td>\n",
       "      <td>6905</td>\n",
       "      <td>12474</td>\n",
       "      <td>5569</td>\n",
       "      <td>0.553711</td>\n",
       "      <td>13.390625</td>\n",
       "      <td>18.171875</td>\n",
       "      <td>2.662109</td>\n",
       "      <td>4.292969</td>\n",
       "      <td>0</td>\n",
       "    </tr>\n",
       "    <tr>\n",
       "      <th>8021</th>\n",
       "      <td>1</td>\n",
       "      <td>1</td>\n",
       "      <td>1</td>\n",
       "      <td>1</td>\n",
       "      <td>2</td>\n",
       "      <td>3</td>\n",
       "      <td>19</td>\n",
       "      <td>9.0</td>\n",
       "      <td>5</td>\n",
       "      <td>1</td>\n",
       "      <td>1</td>\n",
       "      <td>10</td>\n",
       "      <td>0</td>\n",
       "      <td>0.083313</td>\n",
       "      <td>3.000000</td>\n",
       "      <td>19.000000</td>\n",
       "      <td>0.0</td>\n",
       "      <td>0.000000</td>\n",
       "      <td>12</td>\n",
       "      <td>88</td>\n",
       "      <td>0.136353</td>\n",
       "      <td>33</td>\n",
       "      <td>55</td>\n",
       "      <td>0.625</td>\n",
       "      <td>0.486816</td>\n",
       "      <td>1.011719</td>\n",
       "      <td>1.551758</td>\n",
       "      <td>1.246094</td>\n",
       "      <td>16.359375</td>\n",
       "      <td>2.115234</td>\n",
       "      <td>1.455078</td>\n",
       "      <td>11.484375</td>\n",
       "      <td>23.703125</td>\n",
       "      <td>4.867188</td>\n",
       "      <td>512159</td>\n",
       "      <td>77350</td>\n",
       "      <td>375554</td>\n",
       "      <td>285674.0</td>\n",
       "      <td>245840</td>\n",
       "      <td>16472</td>\n",
       "      <td>27864</td>\n",
       "      <td>11392</td>\n",
       "      <td>0.591309</td>\n",
       "      <td>13.476562</td>\n",
       "      <td>18.562500</td>\n",
       "      <td>2.775391</td>\n",
       "      <td>4.425781</td>\n",
       "      <td>0</td>\n",
       "    </tr>\n",
       "  </tbody>\n",
       "</table>\n",
       "</div>"
      ],
      "text/plain": [
       "                    up_unique_dow  ...  prediction\n",
       "user_id product_id                 ...            \n",
       "3       248                     1  ...           0\n",
       "        1005                    1  ...           0\n",
       "        1819                    2  ...           0\n",
       "        7503                    1  ...           0\n",
       "        8021                    1  ...           0\n",
       "\n",
       "[5 rows x 48 columns]"
      ]
     },
     "execution_count": 10,
     "metadata": {
      "tags": []
     },
     "output_type": "execute_result"
    }
   ],
   "source": [
    "data_test['prediction'] = y_pred_test\n",
    "data_test.head()"
   ]
  },
  {
   "cell_type": "code",
   "execution_count": 11,
   "metadata": {
    "colab": {
     "base_uri": "https://localhost:8080/",
     "height": 195
    },
    "id": "TSQmGnatqTIw",
    "outputId": "91ed2933-1623-46fe-f260-554d5b4ba5db"
   },
   "outputs": [
    {
     "data": {
      "text/html": [
       "<div>\n",
       "<style scoped>\n",
       "    .dataframe tbody tr th:only-of-type {\n",
       "        vertical-align: middle;\n",
       "    }\n",
       "\n",
       "    .dataframe tbody tr th {\n",
       "        vertical-align: top;\n",
       "    }\n",
       "\n",
       "    .dataframe thead th {\n",
       "        text-align: right;\n",
       "    }\n",
       "</style>\n",
       "<table border=\"1\" class=\"dataframe\">\n",
       "  <thead>\n",
       "    <tr style=\"text-align: right;\">\n",
       "      <th></th>\n",
       "      <th>product_id</th>\n",
       "      <th>user_id</th>\n",
       "      <th>prediction</th>\n",
       "    </tr>\n",
       "  </thead>\n",
       "  <tbody>\n",
       "    <tr>\n",
       "      <th>0</th>\n",
       "      <td>248</td>\n",
       "      <td>3</td>\n",
       "      <td>0</td>\n",
       "    </tr>\n",
       "    <tr>\n",
       "      <th>1</th>\n",
       "      <td>1005</td>\n",
       "      <td>3</td>\n",
       "      <td>0</td>\n",
       "    </tr>\n",
       "    <tr>\n",
       "      <th>2</th>\n",
       "      <td>1819</td>\n",
       "      <td>3</td>\n",
       "      <td>0</td>\n",
       "    </tr>\n",
       "    <tr>\n",
       "      <th>3</th>\n",
       "      <td>7503</td>\n",
       "      <td>3</td>\n",
       "      <td>0</td>\n",
       "    </tr>\n",
       "    <tr>\n",
       "      <th>4</th>\n",
       "      <td>8021</td>\n",
       "      <td>3</td>\n",
       "      <td>0</td>\n",
       "    </tr>\n",
       "  </tbody>\n",
       "</table>\n",
       "</div>"
      ],
      "text/plain": [
       "   product_id  user_id  prediction\n",
       "0         248        3           0\n",
       "1        1005        3           0\n",
       "2        1819        3           0\n",
       "3        7503        3           0\n",
       "4        8021        3           0"
      ]
     },
     "execution_count": 11,
     "metadata": {
      "tags": []
     },
     "output_type": "execute_result"
    }
   ],
   "source": [
    "final = data_test.reset_index()\n",
    "# Keep only the required columns to create our submission file (for chapter 6)\n",
    "final = final[['product_id', 'user_id', 'prediction']]\n",
    "\n",
    "\n",
    "final.head()"
   ]
  },
  {
   "cell_type": "code",
   "execution_count": 12,
   "metadata": {
    "colab": {
     "base_uri": "https://localhost:8080/",
     "height": 195
    },
    "id": "qzj5vkXFqTIx",
    "outputId": "6d80bb64-51ed-41a4-c7e8-15fbd400a2b1"
   },
   "outputs": [
    {
     "data": {
      "text/html": [
       "<div>\n",
       "<style scoped>\n",
       "    .dataframe tbody tr th:only-of-type {\n",
       "        vertical-align: middle;\n",
       "    }\n",
       "\n",
       "    .dataframe tbody tr th {\n",
       "        vertical-align: top;\n",
       "    }\n",
       "\n",
       "    .dataframe thead th {\n",
       "        text-align: right;\n",
       "    }\n",
       "</style>\n",
       "<table border=\"1\" class=\"dataframe\">\n",
       "  <thead>\n",
       "    <tr style=\"text-align: right;\">\n",
       "      <th></th>\n",
       "      <th>user_id</th>\n",
       "      <th>order_id</th>\n",
       "    </tr>\n",
       "  </thead>\n",
       "  <tbody>\n",
       "    <tr>\n",
       "      <th>38</th>\n",
       "      <td>3</td>\n",
       "      <td>2774568</td>\n",
       "    </tr>\n",
       "    <tr>\n",
       "      <th>44</th>\n",
       "      <td>4</td>\n",
       "      <td>329954</td>\n",
       "    </tr>\n",
       "    <tr>\n",
       "      <th>53</th>\n",
       "      <td>6</td>\n",
       "      <td>1528013</td>\n",
       "    </tr>\n",
       "    <tr>\n",
       "      <th>96</th>\n",
       "      <td>11</td>\n",
       "      <td>1376945</td>\n",
       "    </tr>\n",
       "    <tr>\n",
       "      <th>102</th>\n",
       "      <td>12</td>\n",
       "      <td>1356845</td>\n",
       "    </tr>\n",
       "  </tbody>\n",
       "</table>\n",
       "</div>"
      ],
      "text/plain": [
       "     user_id  order_id\n",
       "38         3   2774568\n",
       "44         4    329954\n",
       "53         6   1528013\n",
       "96        11   1376945\n",
       "102       12   1356845"
      ]
     },
     "execution_count": 12,
     "metadata": {
      "tags": []
     },
     "output_type": "execute_result"
    }
   ],
   "source": [
    "#Creating a submission file\n",
    "orders = pd.read_csv('/content/drive/MyDrive/orders.csv')\n",
    "orders_test = orders.loc[orders.eval_set == 'test', ['user_id', 'order_id']]\n",
    "orders_test.head()"
   ]
  },
  {
   "cell_type": "code",
   "execution_count": 13,
   "metadata": {
    "colab": {
     "base_uri": "https://localhost:8080/",
     "height": 195
    },
    "id": "vJ8_mdTMqTIx",
    "outputId": "020cb8c4-17b9-425c-c6ab-b9718441dca7"
   },
   "outputs": [
    {
     "data": {
      "text/html": [
       "<div>\n",
       "<style scoped>\n",
       "    .dataframe tbody tr th:only-of-type {\n",
       "        vertical-align: middle;\n",
       "    }\n",
       "\n",
       "    .dataframe tbody tr th {\n",
       "        vertical-align: top;\n",
       "    }\n",
       "\n",
       "    .dataframe thead th {\n",
       "        text-align: right;\n",
       "    }\n",
       "</style>\n",
       "<table border=\"1\" class=\"dataframe\">\n",
       "  <thead>\n",
       "    <tr style=\"text-align: right;\">\n",
       "      <th></th>\n",
       "      <th>product_id</th>\n",
       "      <th>user_id</th>\n",
       "      <th>prediction</th>\n",
       "      <th>order_id</th>\n",
       "    </tr>\n",
       "  </thead>\n",
       "  <tbody>\n",
       "    <tr>\n",
       "      <th>0</th>\n",
       "      <td>248</td>\n",
       "      <td>3</td>\n",
       "      <td>0</td>\n",
       "      <td>2774568</td>\n",
       "    </tr>\n",
       "    <tr>\n",
       "      <th>1</th>\n",
       "      <td>1005</td>\n",
       "      <td>3</td>\n",
       "      <td>0</td>\n",
       "      <td>2774568</td>\n",
       "    </tr>\n",
       "    <tr>\n",
       "      <th>2</th>\n",
       "      <td>1819</td>\n",
       "      <td>3</td>\n",
       "      <td>0</td>\n",
       "      <td>2774568</td>\n",
       "    </tr>\n",
       "    <tr>\n",
       "      <th>3</th>\n",
       "      <td>7503</td>\n",
       "      <td>3</td>\n",
       "      <td>0</td>\n",
       "      <td>2774568</td>\n",
       "    </tr>\n",
       "    <tr>\n",
       "      <th>4</th>\n",
       "      <td>8021</td>\n",
       "      <td>3</td>\n",
       "      <td>0</td>\n",
       "      <td>2774568</td>\n",
       "    </tr>\n",
       "  </tbody>\n",
       "</table>\n",
       "</div>"
      ],
      "text/plain": [
       "   product_id  user_id  prediction  order_id\n",
       "0         248        3           0   2774568\n",
       "1        1005        3           0   2774568\n",
       "2        1819        3           0   2774568\n",
       "3        7503        3           0   2774568\n",
       "4        8021        3           0   2774568"
      ]
     },
     "execution_count": 13,
     "metadata": {
      "tags": []
     },
     "output_type": "execute_result"
    }
   ],
   "source": [
    "final = final.merge(orders_test, on='user_id', how='left')\n",
    "final.head()"
   ]
  },
  {
   "cell_type": "code",
   "execution_count": 14,
   "metadata": {
    "id": "nXl2ElGjqTIx"
   },
   "outputs": [],
   "source": [
    "#remove user_id column\n",
    "final = final.drop('user_id', axis=1)"
   ]
  },
  {
   "cell_type": "code",
   "execution_count": 15,
   "metadata": {
    "colab": {
     "base_uri": "https://localhost:8080/",
     "height": 195
    },
    "id": "UXkkdEtLqTIx",
    "outputId": "d81f0763-351f-4ede-b321-f90b8facd4e0"
   },
   "outputs": [
    {
     "data": {
      "text/html": [
       "<div>\n",
       "<style scoped>\n",
       "    .dataframe tbody tr th:only-of-type {\n",
       "        vertical-align: middle;\n",
       "    }\n",
       "\n",
       "    .dataframe tbody tr th {\n",
       "        vertical-align: top;\n",
       "    }\n",
       "\n",
       "    .dataframe thead th {\n",
       "        text-align: right;\n",
       "    }\n",
       "</style>\n",
       "<table border=\"1\" class=\"dataframe\">\n",
       "  <thead>\n",
       "    <tr style=\"text-align: right;\">\n",
       "      <th></th>\n",
       "      <th>product_id</th>\n",
       "      <th>prediction</th>\n",
       "      <th>order_id</th>\n",
       "    </tr>\n",
       "  </thead>\n",
       "  <tbody>\n",
       "    <tr>\n",
       "      <th>0</th>\n",
       "      <td>248</td>\n",
       "      <td>0</td>\n",
       "      <td>2774568</td>\n",
       "    </tr>\n",
       "    <tr>\n",
       "      <th>1</th>\n",
       "      <td>1005</td>\n",
       "      <td>0</td>\n",
       "      <td>2774568</td>\n",
       "    </tr>\n",
       "    <tr>\n",
       "      <th>2</th>\n",
       "      <td>1819</td>\n",
       "      <td>0</td>\n",
       "      <td>2774568</td>\n",
       "    </tr>\n",
       "    <tr>\n",
       "      <th>3</th>\n",
       "      <td>7503</td>\n",
       "      <td>0</td>\n",
       "      <td>2774568</td>\n",
       "    </tr>\n",
       "    <tr>\n",
       "      <th>4</th>\n",
       "      <td>8021</td>\n",
       "      <td>0</td>\n",
       "      <td>2774568</td>\n",
       "    </tr>\n",
       "  </tbody>\n",
       "</table>\n",
       "</div>"
      ],
      "text/plain": [
       "   product_id  prediction  order_id\n",
       "0         248           0   2774568\n",
       "1        1005           0   2774568\n",
       "2        1819           0   2774568\n",
       "3        7503           0   2774568\n",
       "4        8021           0   2774568"
      ]
     },
     "execution_count": 15,
     "metadata": {
      "tags": []
     },
     "output_type": "execute_result"
    }
   ],
   "source": [
    "#convert product_id as integer\n",
    "final['product_id'] = final.product_id.astype(int)\n",
    "\n",
    "## Remove all unnecessary objects\n",
    "del orders\n",
    "del orders_test\n",
    "\n",
    "final.head()"
   ]
  },
  {
   "cell_type": "code",
   "execution_count": null,
   "metadata": {
    "id": "FhS7dViq4kDE"
   },
   "outputs": [],
   "source": [
    "#Cleaning\n",
    "#del x_train\n",
    "#del x_test\n",
    "#del y_pred"
   ]
  },
  {
   "cell_type": "code",
   "execution_count": 16,
   "metadata": {
    "colab": {
     "base_uri": "https://localhost:8080/"
    },
    "id": "WgZiOAY-qTIy",
    "outputId": "d2efe69f-bb00-4c73-849d-27f6afb36345"
   },
   "outputs": [
    {
     "name": "stderr",
     "output_type": "stream",
     "text": [
      "4833292it [00:04, 1057047.84it/s]\n",
      "100%|██████████| 4833292/4833292 [00:01<00:00, 2939981.57it/s]\n"
     ]
    }
   ],
   "source": [
    "# URL : https://www.kaggle.com/errolpereira/light-gradient-boosting\n",
    "d = dict()\n",
    "for row in tqdm(final.itertuples()):\n",
    "    if row.prediction== 1:\n",
    "        try:\n",
    "            d[row.order_id] += ' ' + str(row.product_id)\n",
    "        except:\n",
    "            d[row.order_id] = str(row.product_id)\n",
    "\n",
    "for order in tqdm(final.order_id):\n",
    "    if order not in d:\n",
    "        d[order] = 'None'"
   ]
  },
  {
   "cell_type": "code",
   "execution_count": 17,
   "metadata": {
    "colab": {
     "base_uri": "https://localhost:8080/",
     "height": 195
    },
    "id": "rWsF62vwqTIy",
    "outputId": "6036a77b-5798-452d-feda-e0b29e4dcb68"
   },
   "outputs": [
    {
     "data": {
      "text/html": [
       "<div>\n",
       "<style scoped>\n",
       "    .dataframe tbody tr th:only-of-type {\n",
       "        vertical-align: middle;\n",
       "    }\n",
       "\n",
       "    .dataframe tbody tr th {\n",
       "        vertical-align: top;\n",
       "    }\n",
       "\n",
       "    .dataframe thead th {\n",
       "        text-align: right;\n",
       "    }\n",
       "</style>\n",
       "<table border=\"1\" class=\"dataframe\">\n",
       "  <thead>\n",
       "    <tr style=\"text-align: right;\">\n",
       "      <th></th>\n",
       "      <th>order_id</th>\n",
       "      <th>products</th>\n",
       "    </tr>\n",
       "  </thead>\n",
       "  <tbody>\n",
       "    <tr>\n",
       "      <th>0</th>\n",
       "      <td>2774568</td>\n",
       "      <td>17668 18599 21903 23650 39190 43961 47766</td>\n",
       "    </tr>\n",
       "    <tr>\n",
       "      <th>1</th>\n",
       "      <td>1528013</td>\n",
       "      <td>21903 38293</td>\n",
       "    </tr>\n",
       "    <tr>\n",
       "      <th>2</th>\n",
       "      <td>1376945</td>\n",
       "      <td>8309 13176 14947 27959 28465 33572 34658 44632</td>\n",
       "    </tr>\n",
       "    <tr>\n",
       "      <th>3</th>\n",
       "      <td>1356845</td>\n",
       "      <td>7076 10863 11520 13176 14992 22959 28134</td>\n",
       "    </tr>\n",
       "    <tr>\n",
       "      <th>4</th>\n",
       "      <td>2161313</td>\n",
       "      <td>196 10441 11266 12427 14715 27839 37710</td>\n",
       "    </tr>\n",
       "  </tbody>\n",
       "</table>\n",
       "</div>"
      ],
      "text/plain": [
       "   order_id                                        products\n",
       "0   2774568       17668 18599 21903 23650 39190 43961 47766\n",
       "1   1528013                                     21903 38293\n",
       "2   1376945  8309 13176 14947 27959 28465 33572 34658 44632\n",
       "3   1356845        7076 10863 11520 13176 14992 22959 28134\n",
       "4   2161313         196 10441 11266 12427 14715 27839 37710"
      ]
     },
     "execution_count": 17,
     "metadata": {
      "tags": []
     },
     "output_type": "execute_result"
    }
   ],
   "source": [
    "#Convert the dictionary into a DataFrame\n",
    "sub = pd.DataFrame.from_dict(d, orient='index')\n",
    "\n",
    "#Reset index\n",
    "sub.reset_index(inplace=True)\n",
    "#Set column names\n",
    "sub.columns = ['order_id', 'products']\n",
    "\n",
    "sub.head()"
   ]
  },
  {
   "cell_type": "code",
   "execution_count": 18,
   "metadata": {
    "id": "I-zhi_doqTIy"
   },
   "outputs": [],
   "source": [
    "sub.to_csv(\"submission_csv_28.csv\" , index = False)"
   ]
  },
  {
   "cell_type": "code",
   "execution_count": null,
   "metadata": {},
   "outputs": [],
   "source": []
  },
  {
   "cell_type": "markdown",
   "metadata": {
    "id": "WEZd-yjZqTIz"
   },
   "source": [
    "<h1> Submision on Kaggle </h1>"
   ]
  },
  {
   "cell_type": "markdown",
   "metadata": {
    "id": "Kq5JLRPzVGV0"
   },
   "source": [
    "<div>\n",
    "I use to get the score for the submission and load it in google colab space and the just loaded the image usling Pillow Image.\n",
    "\n",
    "You can follow the same\n",
    "\n",
    "</div>"
   ]
  },
  {
   "cell_type": "markdown",
   "metadata": {
    "id": "X6hoO6XgXe-A"
   },
   "source": [
    "<h2> Score of Catboost Classifier </h2>"
   ]
  },
  {
   "cell_type": "code",
   "execution_count": 4,
   "metadata": {
    "colab": {
     "base_uri": "https://localhost:8080/",
     "height": 275
    },
    "id": "qPauDJNHXdP8",
    "outputId": "8bb24d7f-1a90-429a-c4b0-b6daf9fa0e8d"
   },
   "outputs": [
    {
     "data": {
      "image/png": "[encoded data removed]",
      "text/plain": [
       "<PIL.JpegImagePlugin.JpegImageFile image mode=RGB size=1233x286 at 0x7F244964D208>"
      ]
     },
     "execution_count": 4,
     "metadata": {
      "tags": []
     },
     "output_type": "execute_result"
    }
   ],
   "source": [
    "img = Image.open(\"MY_KAGGLE_SUBMISSION_SCORE.jpg\")\n",
    "img"
   ]
  }
 ],
 "metadata": {
  "accelerator": "GPU",
  "colab": {
   "collapsed_sections": [],
   "name": "Modeling.ipynb",
   "provenance": []
  },
  "kernelspec": {
   "display_name": "Python 3",
   "language": "python",
   "name": "python3"
  },
  "language_info": {
   "codemirror_mode": {
    "name": "ipython",
    "version": 3
   },
   "file_extension": ".py",
   "mimetype": "text/x-python",
   "name": "python",
   "nbconvert_exporter": "python",
   "pygments_lexer": "ipython3",
   "version": "3.7.6"
  }
 },
 "nbformat": 4,
 "nbformat_minor": 1
}
